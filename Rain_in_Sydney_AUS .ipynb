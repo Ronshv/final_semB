{
 "cells": [
  {
   "cell_type": "markdown",
   "id": "incorporate-convention",
   "metadata": {},
   "source": [
    "# Rain Prediction in Sydeny AUS"
   ]
  },
  {
   "cell_type": "markdown",
   "id": "alpha-robin",
   "metadata": {},
   "source": [
    "\n",
    "I built a classifier to predict whether or not it will rain tomorrow in Sydney Australia by training a binary classification model. I have used the Rain in Australia dataset downloaded from the Kaggle website for this project.\n",
    "\n",
    "# 1.Data"
   ]
  },
  {
   "cell_type": "code",
   "execution_count": 2,
   "id": "collaborative-anger",
   "metadata": {},
   "outputs": [],
   "source": [
    "import pandas as pd\n",
    "import matplotlib.pyplot as plt\n",
    "%matplotlib inline"
   ]
  },
  {
   "cell_type": "code",
   "execution_count": 2,
   "id": "stable-expense",
   "metadata": {},
   "outputs": [
    {
     "data": {
      "text/html": [
       "<div>\n",
       "<style scoped>\n",
       "    .dataframe tbody tr th:only-of-type {\n",
       "        vertical-align: middle;\n",
       "    }\n",
       "\n",
       "    .dataframe tbody tr th {\n",
       "        vertical-align: top;\n",
       "    }\n",
       "\n",
       "    .dataframe thead th {\n",
       "        text-align: right;\n",
       "    }\n",
       "</style>\n",
       "<table border=\"1\" class=\"dataframe\">\n",
       "  <thead>\n",
       "    <tr style=\"text-align: right;\">\n",
       "      <th></th>\n",
       "      <th>Date</th>\n",
       "      <th>Location</th>\n",
       "      <th>MinTemp</th>\n",
       "      <th>MaxTemp</th>\n",
       "      <th>Rainfall</th>\n",
       "      <th>Evaporation</th>\n",
       "      <th>Sunshine</th>\n",
       "      <th>WindGustDir</th>\n",
       "      <th>WindGustSpeed</th>\n",
       "      <th>WindDir9am</th>\n",
       "      <th>...</th>\n",
       "      <th>Humidity9am</th>\n",
       "      <th>Humidity3pm</th>\n",
       "      <th>Pressure9am</th>\n",
       "      <th>Pressure3pm</th>\n",
       "      <th>Cloud9am</th>\n",
       "      <th>Cloud3pm</th>\n",
       "      <th>Temp9am</th>\n",
       "      <th>Temp3pm</th>\n",
       "      <th>RainToday</th>\n",
       "      <th>RainTomorrow</th>\n",
       "    </tr>\n",
       "  </thead>\n",
       "  <tbody>\n",
       "    <tr>\n",
       "      <th>0</th>\n",
       "      <td>2008-12-01</td>\n",
       "      <td>Albury</td>\n",
       "      <td>13.4</td>\n",
       "      <td>22.9</td>\n",
       "      <td>0.6</td>\n",
       "      <td>NaN</td>\n",
       "      <td>NaN</td>\n",
       "      <td>W</td>\n",
       "      <td>44.0</td>\n",
       "      <td>W</td>\n",
       "      <td>...</td>\n",
       "      <td>71.0</td>\n",
       "      <td>22.0</td>\n",
       "      <td>1007.7</td>\n",
       "      <td>1007.1</td>\n",
       "      <td>8.0</td>\n",
       "      <td>NaN</td>\n",
       "      <td>16.9</td>\n",
       "      <td>21.8</td>\n",
       "      <td>No</td>\n",
       "      <td>No</td>\n",
       "    </tr>\n",
       "    <tr>\n",
       "      <th>1</th>\n",
       "      <td>2008-12-02</td>\n",
       "      <td>Albury</td>\n",
       "      <td>7.4</td>\n",
       "      <td>25.1</td>\n",
       "      <td>0.0</td>\n",
       "      <td>NaN</td>\n",
       "      <td>NaN</td>\n",
       "      <td>WNW</td>\n",
       "      <td>44.0</td>\n",
       "      <td>NNW</td>\n",
       "      <td>...</td>\n",
       "      <td>44.0</td>\n",
       "      <td>25.0</td>\n",
       "      <td>1010.6</td>\n",
       "      <td>1007.8</td>\n",
       "      <td>NaN</td>\n",
       "      <td>NaN</td>\n",
       "      <td>17.2</td>\n",
       "      <td>24.3</td>\n",
       "      <td>No</td>\n",
       "      <td>No</td>\n",
       "    </tr>\n",
       "    <tr>\n",
       "      <th>2</th>\n",
       "      <td>2008-12-03</td>\n",
       "      <td>Albury</td>\n",
       "      <td>12.9</td>\n",
       "      <td>25.7</td>\n",
       "      <td>0.0</td>\n",
       "      <td>NaN</td>\n",
       "      <td>NaN</td>\n",
       "      <td>WSW</td>\n",
       "      <td>46.0</td>\n",
       "      <td>W</td>\n",
       "      <td>...</td>\n",
       "      <td>38.0</td>\n",
       "      <td>30.0</td>\n",
       "      <td>1007.6</td>\n",
       "      <td>1008.7</td>\n",
       "      <td>NaN</td>\n",
       "      <td>2.0</td>\n",
       "      <td>21.0</td>\n",
       "      <td>23.2</td>\n",
       "      <td>No</td>\n",
       "      <td>No</td>\n",
       "    </tr>\n",
       "    <tr>\n",
       "      <th>3</th>\n",
       "      <td>2008-12-04</td>\n",
       "      <td>Albury</td>\n",
       "      <td>9.2</td>\n",
       "      <td>28.0</td>\n",
       "      <td>0.0</td>\n",
       "      <td>NaN</td>\n",
       "      <td>NaN</td>\n",
       "      <td>NE</td>\n",
       "      <td>24.0</td>\n",
       "      <td>SE</td>\n",
       "      <td>...</td>\n",
       "      <td>45.0</td>\n",
       "      <td>16.0</td>\n",
       "      <td>1017.6</td>\n",
       "      <td>1012.8</td>\n",
       "      <td>NaN</td>\n",
       "      <td>NaN</td>\n",
       "      <td>18.1</td>\n",
       "      <td>26.5</td>\n",
       "      <td>No</td>\n",
       "      <td>No</td>\n",
       "    </tr>\n",
       "    <tr>\n",
       "      <th>4</th>\n",
       "      <td>2008-12-05</td>\n",
       "      <td>Albury</td>\n",
       "      <td>17.5</td>\n",
       "      <td>32.3</td>\n",
       "      <td>1.0</td>\n",
       "      <td>NaN</td>\n",
       "      <td>NaN</td>\n",
       "      <td>W</td>\n",
       "      <td>41.0</td>\n",
       "      <td>ENE</td>\n",
       "      <td>...</td>\n",
       "      <td>82.0</td>\n",
       "      <td>33.0</td>\n",
       "      <td>1010.8</td>\n",
       "      <td>1006.0</td>\n",
       "      <td>7.0</td>\n",
       "      <td>8.0</td>\n",
       "      <td>17.8</td>\n",
       "      <td>29.7</td>\n",
       "      <td>No</td>\n",
       "      <td>No</td>\n",
       "    </tr>\n",
       "  </tbody>\n",
       "</table>\n",
       "<p>5 rows × 23 columns</p>\n",
       "</div>"
      ],
      "text/plain": [
       "         Date Location  MinTemp  MaxTemp  Rainfall  Evaporation  Sunshine  \\\n",
       "0  2008-12-01   Albury     13.4     22.9       0.6          NaN       NaN   \n",
       "1  2008-12-02   Albury      7.4     25.1       0.0          NaN       NaN   \n",
       "2  2008-12-03   Albury     12.9     25.7       0.0          NaN       NaN   \n",
       "3  2008-12-04   Albury      9.2     28.0       0.0          NaN       NaN   \n",
       "4  2008-12-05   Albury     17.5     32.3       1.0          NaN       NaN   \n",
       "\n",
       "  WindGustDir  WindGustSpeed WindDir9am  ... Humidity9am  Humidity3pm  \\\n",
       "0           W           44.0          W  ...        71.0         22.0   \n",
       "1         WNW           44.0        NNW  ...        44.0         25.0   \n",
       "2         WSW           46.0          W  ...        38.0         30.0   \n",
       "3          NE           24.0         SE  ...        45.0         16.0   \n",
       "4           W           41.0        ENE  ...        82.0         33.0   \n",
       "\n",
       "   Pressure9am  Pressure3pm  Cloud9am  Cloud3pm  Temp9am  Temp3pm  RainToday  \\\n",
       "0       1007.7       1007.1       8.0       NaN     16.9     21.8         No   \n",
       "1       1010.6       1007.8       NaN       NaN     17.2     24.3         No   \n",
       "2       1007.6       1008.7       NaN       2.0     21.0     23.2         No   \n",
       "3       1017.6       1012.8       NaN       NaN     18.1     26.5         No   \n",
       "4       1010.8       1006.0       7.0       8.0     17.8     29.7         No   \n",
       "\n",
       "   RainTomorrow  \n",
       "0            No  \n",
       "1            No  \n",
       "2            No  \n",
       "3            No  \n",
       "4            No  \n",
       "\n",
       "[5 rows x 23 columns]"
      ]
     },
     "execution_count": 2,
     "metadata": {},
     "output_type": "execute_result"
    }
   ],
   "source": [
    "data = pd.read_csv('weatherAUS.csv')\n",
    "data.head()"
   ]
  },
  {
   "cell_type": "code",
   "execution_count": 3,
   "id": "alien-dynamics",
   "metadata": {},
   "outputs": [
    {
     "data": {
      "text/plain": [
       "(145460, 23)"
      ]
     },
     "execution_count": 3,
     "metadata": {},
     "output_type": "execute_result"
    }
   ],
   "source": [
    "data.shape"
   ]
  },
  {
   "cell_type": "code",
   "execution_count": 4,
   "id": "hollywood-toyota",
   "metadata": {},
   "outputs": [
    {
     "name": "stdout",
     "output_type": "stream",
     "text": [
      "<class 'pandas.core.frame.DataFrame'>\n",
      "RangeIndex: 145460 entries, 0 to 145459\n",
      "Data columns (total 23 columns):\n",
      " #   Column         Non-Null Count   Dtype  \n",
      "---  ------         --------------   -----  \n",
      " 0   Date           145460 non-null  object \n",
      " 1   Location       145460 non-null  object \n",
      " 2   MinTemp        143975 non-null  float64\n",
      " 3   MaxTemp        144199 non-null  float64\n",
      " 4   Rainfall       142199 non-null  float64\n",
      " 5   Evaporation    82670 non-null   float64\n",
      " 6   Sunshine       75625 non-null   float64\n",
      " 7   WindGustDir    135134 non-null  object \n",
      " 8   WindGustSpeed  135197 non-null  float64\n",
      " 9   WindDir9am     134894 non-null  object \n",
      " 10  WindDir3pm     141232 non-null  object \n",
      " 11  WindSpeed9am   143693 non-null  float64\n",
      " 12  WindSpeed3pm   142398 non-null  float64\n",
      " 13  Humidity9am    142806 non-null  float64\n",
      " 14  Humidity3pm    140953 non-null  float64\n",
      " 15  Pressure9am    130395 non-null  float64\n",
      " 16  Pressure3pm    130432 non-null  float64\n",
      " 17  Cloud9am       89572 non-null   float64\n",
      " 18  Cloud3pm       86102 non-null   float64\n",
      " 19  Temp9am        143693 non-null  float64\n",
      " 20  Temp3pm        141851 non-null  float64\n",
      " 21  RainToday      142199 non-null  object \n",
      " 22  RainTomorrow   142193 non-null  object \n",
      "dtypes: float64(16), object(7)\n",
      "memory usage: 25.5+ MB\n"
     ]
    }
   ],
   "source": [
    "data.info()"
   ]
  },
  {
   "cell_type": "code",
   "execution_count": 5,
   "id": "cheap-brooklyn",
   "metadata": {},
   "outputs": [
    {
     "data": {
      "text/plain": [
       "(145460, 23)"
      ]
     },
     "execution_count": 5,
     "metadata": {},
     "output_type": "execute_result"
    }
   ],
   "source": [
    "data.drop_duplicates(inplace=True)\n",
    "data.shape"
   ]
  },
  {
   "cell_type": "code",
   "execution_count": 6,
   "id": "artificial-decline",
   "metadata": {},
   "outputs": [
    {
     "data": {
      "text/html": [
       "<div>\n",
       "<style scoped>\n",
       "    .dataframe tbody tr th:only-of-type {\n",
       "        vertical-align: middle;\n",
       "    }\n",
       "\n",
       "    .dataframe tbody tr th {\n",
       "        vertical-align: top;\n",
       "    }\n",
       "\n",
       "    .dataframe thead th {\n",
       "        text-align: right;\n",
       "    }\n",
       "</style>\n",
       "<table border=\"1\" class=\"dataframe\">\n",
       "  <thead>\n",
       "    <tr style=\"text-align: right;\">\n",
       "      <th></th>\n",
       "      <th>Date</th>\n",
       "      <th>Location</th>\n",
       "      <th>MinTemp</th>\n",
       "      <th>MaxTemp</th>\n",
       "      <th>Rainfall</th>\n",
       "      <th>Evaporation</th>\n",
       "      <th>Sunshine</th>\n",
       "      <th>WindGustDir</th>\n",
       "      <th>WindGustSpeed</th>\n",
       "      <th>WindDir9am</th>\n",
       "      <th>...</th>\n",
       "      <th>Humidity9am</th>\n",
       "      <th>Humidity3pm</th>\n",
       "      <th>Pressure9am</th>\n",
       "      <th>Pressure3pm</th>\n",
       "      <th>Cloud9am</th>\n",
       "      <th>Cloud3pm</th>\n",
       "      <th>Temp9am</th>\n",
       "      <th>Temp3pm</th>\n",
       "      <th>RainToday</th>\n",
       "      <th>RainTomorrow</th>\n",
       "    </tr>\n",
       "  </thead>\n",
       "  <tbody>\n",
       "    <tr>\n",
       "      <th>30176</th>\n",
       "      <td>2008-02-01</td>\n",
       "      <td>Sydney</td>\n",
       "      <td>19.5</td>\n",
       "      <td>22.4</td>\n",
       "      <td>15.6</td>\n",
       "      <td>6.2</td>\n",
       "      <td>0.0</td>\n",
       "      <td>NaN</td>\n",
       "      <td>NaN</td>\n",
       "      <td>S</td>\n",
       "      <td>...</td>\n",
       "      <td>92.0</td>\n",
       "      <td>84.0</td>\n",
       "      <td>1017.6</td>\n",
       "      <td>1017.4</td>\n",
       "      <td>8.0</td>\n",
       "      <td>8.0</td>\n",
       "      <td>20.7</td>\n",
       "      <td>20.9</td>\n",
       "      <td>Yes</td>\n",
       "      <td>Yes</td>\n",
       "    </tr>\n",
       "    <tr>\n",
       "      <th>30177</th>\n",
       "      <td>2008-02-02</td>\n",
       "      <td>Sydney</td>\n",
       "      <td>19.5</td>\n",
       "      <td>25.6</td>\n",
       "      <td>6.0</td>\n",
       "      <td>3.4</td>\n",
       "      <td>2.7</td>\n",
       "      <td>NaN</td>\n",
       "      <td>NaN</td>\n",
       "      <td>W</td>\n",
       "      <td>...</td>\n",
       "      <td>83.0</td>\n",
       "      <td>73.0</td>\n",
       "      <td>1017.9</td>\n",
       "      <td>1016.4</td>\n",
       "      <td>7.0</td>\n",
       "      <td>7.0</td>\n",
       "      <td>22.4</td>\n",
       "      <td>24.8</td>\n",
       "      <td>Yes</td>\n",
       "      <td>Yes</td>\n",
       "    </tr>\n",
       "    <tr>\n",
       "      <th>30178</th>\n",
       "      <td>2008-02-03</td>\n",
       "      <td>Sydney</td>\n",
       "      <td>21.6</td>\n",
       "      <td>24.5</td>\n",
       "      <td>6.6</td>\n",
       "      <td>2.4</td>\n",
       "      <td>0.1</td>\n",
       "      <td>NaN</td>\n",
       "      <td>NaN</td>\n",
       "      <td>ESE</td>\n",
       "      <td>...</td>\n",
       "      <td>88.0</td>\n",
       "      <td>86.0</td>\n",
       "      <td>1016.7</td>\n",
       "      <td>1015.6</td>\n",
       "      <td>7.0</td>\n",
       "      <td>8.0</td>\n",
       "      <td>23.5</td>\n",
       "      <td>23.0</td>\n",
       "      <td>Yes</td>\n",
       "      <td>Yes</td>\n",
       "    </tr>\n",
       "    <tr>\n",
       "      <th>30179</th>\n",
       "      <td>2008-02-04</td>\n",
       "      <td>Sydney</td>\n",
       "      <td>20.2</td>\n",
       "      <td>22.8</td>\n",
       "      <td>18.8</td>\n",
       "      <td>2.2</td>\n",
       "      <td>0.0</td>\n",
       "      <td>NaN</td>\n",
       "      <td>NaN</td>\n",
       "      <td>NNE</td>\n",
       "      <td>...</td>\n",
       "      <td>83.0</td>\n",
       "      <td>90.0</td>\n",
       "      <td>1014.2</td>\n",
       "      <td>1011.8</td>\n",
       "      <td>8.0</td>\n",
       "      <td>8.0</td>\n",
       "      <td>21.4</td>\n",
       "      <td>20.9</td>\n",
       "      <td>Yes</td>\n",
       "      <td>Yes</td>\n",
       "    </tr>\n",
       "    <tr>\n",
       "      <th>30180</th>\n",
       "      <td>2008-02-05</td>\n",
       "      <td>Sydney</td>\n",
       "      <td>19.7</td>\n",
       "      <td>25.7</td>\n",
       "      <td>77.4</td>\n",
       "      <td>NaN</td>\n",
       "      <td>0.0</td>\n",
       "      <td>NaN</td>\n",
       "      <td>NaN</td>\n",
       "      <td>NNE</td>\n",
       "      <td>...</td>\n",
       "      <td>88.0</td>\n",
       "      <td>74.0</td>\n",
       "      <td>1008.3</td>\n",
       "      <td>1004.8</td>\n",
       "      <td>8.0</td>\n",
       "      <td>8.0</td>\n",
       "      <td>22.5</td>\n",
       "      <td>25.5</td>\n",
       "      <td>Yes</td>\n",
       "      <td>Yes</td>\n",
       "    </tr>\n",
       "  </tbody>\n",
       "</table>\n",
       "<p>5 rows × 23 columns</p>\n",
       "</div>"
      ],
      "text/plain": [
       "             Date Location  MinTemp  MaxTemp  Rainfall  Evaporation  Sunshine  \\\n",
       "30176  2008-02-01   Sydney     19.5     22.4      15.6          6.2       0.0   \n",
       "30177  2008-02-02   Sydney     19.5     25.6       6.0          3.4       2.7   \n",
       "30178  2008-02-03   Sydney     21.6     24.5       6.6          2.4       0.1   \n",
       "30179  2008-02-04   Sydney     20.2     22.8      18.8          2.2       0.0   \n",
       "30180  2008-02-05   Sydney     19.7     25.7      77.4          NaN       0.0   \n",
       "\n",
       "      WindGustDir  WindGustSpeed WindDir9am  ... Humidity9am  Humidity3pm  \\\n",
       "30176         NaN            NaN          S  ...        92.0         84.0   \n",
       "30177         NaN            NaN          W  ...        83.0         73.0   \n",
       "30178         NaN            NaN        ESE  ...        88.0         86.0   \n",
       "30179         NaN            NaN        NNE  ...        83.0         90.0   \n",
       "30180         NaN            NaN        NNE  ...        88.0         74.0   \n",
       "\n",
       "       Pressure9am  Pressure3pm  Cloud9am  Cloud3pm  Temp9am  Temp3pm  \\\n",
       "30176       1017.6       1017.4       8.0       8.0     20.7     20.9   \n",
       "30177       1017.9       1016.4       7.0       7.0     22.4     24.8   \n",
       "30178       1016.7       1015.6       7.0       8.0     23.5     23.0   \n",
       "30179       1014.2       1011.8       8.0       8.0     21.4     20.9   \n",
       "30180       1008.3       1004.8       8.0       8.0     22.5     25.5   \n",
       "\n",
       "       RainToday  RainTomorrow  \n",
       "30176        Yes           Yes  \n",
       "30177        Yes           Yes  \n",
       "30178        Yes           Yes  \n",
       "30179        Yes           Yes  \n",
       "30180        Yes           Yes  \n",
       "\n",
       "[5 rows x 23 columns]"
      ]
     },
     "execution_count": 6,
     "metadata": {},
     "output_type": "execute_result"
    }
   ],
   "source": [
    "sdn = data[data.Location == 'Sydney']\n",
    "sdn.head()"
   ]
  },
  {
   "cell_type": "code",
   "execution_count": 7,
   "id": "legislative-browser",
   "metadata": {},
   "outputs": [
    {
     "name": "stdout",
     "output_type": "stream",
     "text": [
      "<class 'pandas.core.frame.DataFrame'>\n",
      "Int64Index: 3344 entries, 30176 to 33519\n",
      "Data columns (total 23 columns):\n",
      " #   Column         Non-Null Count  Dtype  \n",
      "---  ------         --------------  -----  \n",
      " 0   Date           3344 non-null   object \n",
      " 1   Location       3344 non-null   object \n",
      " 2   MinTemp        3340 non-null   float64\n",
      " 3   MaxTemp        3342 non-null   float64\n",
      " 4   Rainfall       3337 non-null   float64\n",
      " 5   Evaporation    3293 non-null   float64\n",
      " 6   Sunshine       3328 non-null   float64\n",
      " 7   WindGustDir    2306 non-null   object \n",
      " 8   WindGustSpeed  2306 non-null   float64\n",
      " 9   WindDir9am     3288 non-null   object \n",
      " 10  WindDir3pm     3311 non-null   object \n",
      " 11  WindSpeed9am   3318 non-null   float64\n",
      " 12  WindSpeed3pm   3319 non-null   float64\n",
      " 13  Humidity9am    3329 non-null   float64\n",
      " 14  Humidity3pm    3331 non-null   float64\n",
      " 15  Pressure9am    3323 non-null   float64\n",
      " 16  Pressure3pm    3325 non-null   float64\n",
      " 17  Cloud9am       2776 non-null   float64\n",
      " 18  Cloud3pm       2781 non-null   float64\n",
      " 19  Temp9am        3339 non-null   float64\n",
      " 20  Temp3pm        3340 non-null   float64\n",
      " 21  RainToday      3337 non-null   object \n",
      " 22  RainTomorrow   3337 non-null   object \n",
      "dtypes: float64(16), object(7)\n",
      "memory usage: 627.0+ KB\n"
     ]
    }
   ],
   "source": [
    "sdn.info()"
   ]
  },
  {
   "cell_type": "code",
   "execution_count": 8,
   "id": "pending-community",
   "metadata": {},
   "outputs": [
    {
     "data": {
      "text/plain": [
       "Date                0\n",
       "Location            0\n",
       "MinTemp             4\n",
       "MaxTemp             2\n",
       "Rainfall            7\n",
       "Evaporation        51\n",
       "Sunshine           16\n",
       "WindGustDir      1038\n",
       "WindGustSpeed    1038\n",
       "WindDir9am         56\n",
       "WindDir3pm         33\n",
       "WindSpeed9am       26\n",
       "WindSpeed3pm       25\n",
       "Humidity9am        15\n",
       "Humidity3pm        13\n",
       "Pressure9am        21\n",
       "Pressure3pm        19\n",
       "Cloud9am          568\n",
       "Cloud3pm          563\n",
       "Temp9am             5\n",
       "Temp3pm             4\n",
       "RainToday           7\n",
       "RainTomorrow        7\n",
       "dtype: int64"
      ]
     },
     "execution_count": 8,
     "metadata": {},
     "output_type": "execute_result"
    }
   ],
   "source": [
    "sdn.isnull().sum()"
   ]
  },
  {
   "cell_type": "markdown",
   "id": "hazardous-acrylic",
   "metadata": {},
   "source": [
    "#### I want to simplify the data more, so I will calculate average value of any XXX9am and XXX3pm"
   ]
  },
  {
   "cell_type": "markdown",
   "id": "liberal-startup",
   "metadata": {},
   "source": [
    "#### for romoving we will fill Nan with most common value of yhe column"
   ]
  },
  {
   "cell_type": "code",
   "execution_count": 9,
   "id": "unlikely-stack",
   "metadata": {},
   "outputs": [
    {
     "name": "stderr",
     "output_type": "stream",
     "text": [
      "c:\\program files\\python38\\lib\\site-packages\\pandas\\core\\generic.py:6245: SettingWithCopyWarning: \n",
      "A value is trying to be set on a copy of a slice from a DataFrame\n",
      "\n",
      "See the caveats in the documentation: https://pandas.pydata.org/pandas-docs/stable/user_guide/indexing.html#returning-a-view-versus-a-copy\n",
      "  self._update_inplace(new_data)\n"
     ]
    }
   ],
   "source": [
    "sdn['WindSpeed9am'].fillna(value=sdn['WindSpeed9am'].mode()[0],inplace=True )\n"
   ]
  },
  {
   "cell_type": "code",
   "execution_count": 10,
   "id": "tamil-louisville",
   "metadata": {},
   "outputs": [],
   "source": [
    "sdn['WindSpeed3pm'].fillna(value=sdn['WindSpeed3pm'].mode()[0],inplace=True )\n",
    "sdn['WindDir9am'].fillna(value=sdn['WindDir9am'].mode()[0],inplace=True )\n",
    "sdn['WindDir3pm'].fillna(value=sdn['WindDir3pm'].mode()[0],inplace=True )\n",
    "sdn['Humidity9am'].fillna(value=sdn['Humidity9am'].mode()[0],inplace=True )\n",
    "sdn['Humidity3pm'].fillna(value=sdn['Humidity3pm'].mode()[0],inplace=True )\n",
    "sdn['Pressure9am'].fillna(value=sdn['Pressure9am'].mode()[0],inplace=True )\n",
    "sdn['Pressure3pm'].fillna(value=sdn['Pressure3pm'].mode()[0],inplace=True )\n",
    "sdn['Cloud9am'].fillna(value=sdn['Cloud9am'].mode()[0],inplace=True )\n",
    "sdn['Cloud3pm'].fillna(value=sdn['Cloud3pm'].mode()[0],inplace=True )\n",
    "sdn['Temp9am'].fillna(value=sdn['Temp9am'].mode()[0],inplace=True )\n",
    "sdn['Temp3pm'].fillna(value=sdn['Temp3pm'].mode()[0],inplace=True )\n",
    "\n"
   ]
  },
  {
   "cell_type": "code",
   "execution_count": 11,
   "id": "sonic-linux",
   "metadata": {},
   "outputs": [
    {
     "data": {
      "text/plain": [
       "Date                0\n",
       "Location            0\n",
       "MinTemp             4\n",
       "MaxTemp             2\n",
       "Rainfall            7\n",
       "Evaporation        51\n",
       "Sunshine           16\n",
       "WindGustDir      1038\n",
       "WindGustSpeed    1038\n",
       "WindDir9am          0\n",
       "WindDir3pm          0\n",
       "WindSpeed9am        0\n",
       "WindSpeed3pm        0\n",
       "Humidity9am         0\n",
       "Humidity3pm         0\n",
       "Pressure9am         0\n",
       "Pressure3pm         0\n",
       "Cloud9am            0\n",
       "Cloud3pm            0\n",
       "Temp9am             0\n",
       "Temp3pm             0\n",
       "RainToday           7\n",
       "RainTomorrow        7\n",
       "dtype: int64"
      ]
     },
     "execution_count": 11,
     "metadata": {},
     "output_type": "execute_result"
    }
   ],
   "source": [
    "sdn.isnull().sum()"
   ]
  },
  {
   "cell_type": "code",
   "execution_count": 15,
   "id": "stuffed-charger",
   "metadata": {},
   "outputs": [
    {
     "ename": "KeyError",
     "evalue": "\"['WindSpeed'] not found in axis\"",
     "output_type": "error",
     "traceback": [
      "\u001b[1;31m---------------------------------------------------------------------------\u001b[0m",
      "\u001b[1;31mKeyError\u001b[0m                                  Traceback (most recent call last)",
      "\u001b[1;32m<ipython-input-15-0e6c82fb668a>\u001b[0m in \u001b[0;36m<module>\u001b[1;34m\u001b[0m\n\u001b[1;32m----> 1\u001b[1;33m \u001b[0msdn\u001b[0m \u001b[1;33m=\u001b[0m \u001b[0msdn\u001b[0m\u001b[1;33m.\u001b[0m\u001b[0mdrop\u001b[0m\u001b[1;33m(\u001b[0m\u001b[1;33m[\u001b[0m\u001b[1;34m'WindSpeed'\u001b[0m\u001b[1;33m]\u001b[0m\u001b[1;33m,\u001b[0m \u001b[0maxis\u001b[0m\u001b[1;33m=\u001b[0m\u001b[1;36m1\u001b[0m\u001b[1;33m)\u001b[0m\u001b[1;33m\u001b[0m\u001b[1;33m\u001b[0m\u001b[0m\n\u001b[0m",
      "\u001b[1;32mc:\\program files\\python38\\lib\\site-packages\\pandas\\core\\frame.py\u001b[0m in \u001b[0;36mdrop\u001b[1;34m(self, labels, axis, index, columns, level, inplace, errors)\u001b[0m\n\u001b[0;32m   3988\u001b[0m                 \u001b[0mweight\u001b[0m  \u001b[1;36m1.0\u001b[0m     \u001b[1;36m0.8\u001b[0m\u001b[1;33m\u001b[0m\u001b[1;33m\u001b[0m\u001b[0m\n\u001b[0;32m   3989\u001b[0m         \"\"\"\n\u001b[1;32m-> 3990\u001b[1;33m         return super().drop(\n\u001b[0m\u001b[0;32m   3991\u001b[0m             \u001b[0mlabels\u001b[0m\u001b[1;33m=\u001b[0m\u001b[0mlabels\u001b[0m\u001b[1;33m,\u001b[0m\u001b[1;33m\u001b[0m\u001b[1;33m\u001b[0m\u001b[0m\n\u001b[0;32m   3992\u001b[0m             \u001b[0maxis\u001b[0m\u001b[1;33m=\u001b[0m\u001b[0maxis\u001b[0m\u001b[1;33m,\u001b[0m\u001b[1;33m\u001b[0m\u001b[1;33m\u001b[0m\u001b[0m\n",
      "\u001b[1;32mc:\\program files\\python38\\lib\\site-packages\\pandas\\core\\generic.py\u001b[0m in \u001b[0;36mdrop\u001b[1;34m(self, labels, axis, index, columns, level, inplace, errors)\u001b[0m\n\u001b[0;32m   3934\u001b[0m         \u001b[1;32mfor\u001b[0m \u001b[0maxis\u001b[0m\u001b[1;33m,\u001b[0m \u001b[0mlabels\u001b[0m \u001b[1;32min\u001b[0m \u001b[0maxes\u001b[0m\u001b[1;33m.\u001b[0m\u001b[0mitems\u001b[0m\u001b[1;33m(\u001b[0m\u001b[1;33m)\u001b[0m\u001b[1;33m:\u001b[0m\u001b[1;33m\u001b[0m\u001b[1;33m\u001b[0m\u001b[0m\n\u001b[0;32m   3935\u001b[0m             \u001b[1;32mif\u001b[0m \u001b[0mlabels\u001b[0m \u001b[1;32mis\u001b[0m \u001b[1;32mnot\u001b[0m \u001b[1;32mNone\u001b[0m\u001b[1;33m:\u001b[0m\u001b[1;33m\u001b[0m\u001b[1;33m\u001b[0m\u001b[0m\n\u001b[1;32m-> 3936\u001b[1;33m                 \u001b[0mobj\u001b[0m \u001b[1;33m=\u001b[0m \u001b[0mobj\u001b[0m\u001b[1;33m.\u001b[0m\u001b[0m_drop_axis\u001b[0m\u001b[1;33m(\u001b[0m\u001b[0mlabels\u001b[0m\u001b[1;33m,\u001b[0m \u001b[0maxis\u001b[0m\u001b[1;33m,\u001b[0m \u001b[0mlevel\u001b[0m\u001b[1;33m=\u001b[0m\u001b[0mlevel\u001b[0m\u001b[1;33m,\u001b[0m \u001b[0merrors\u001b[0m\u001b[1;33m=\u001b[0m\u001b[0merrors\u001b[0m\u001b[1;33m)\u001b[0m\u001b[1;33m\u001b[0m\u001b[1;33m\u001b[0m\u001b[0m\n\u001b[0m\u001b[0;32m   3937\u001b[0m \u001b[1;33m\u001b[0m\u001b[0m\n\u001b[0;32m   3938\u001b[0m         \u001b[1;32mif\u001b[0m \u001b[0minplace\u001b[0m\u001b[1;33m:\u001b[0m\u001b[1;33m\u001b[0m\u001b[1;33m\u001b[0m\u001b[0m\n",
      "\u001b[1;32mc:\\program files\\python38\\lib\\site-packages\\pandas\\core\\generic.py\u001b[0m in \u001b[0;36m_drop_axis\u001b[1;34m(self, labels, axis, level, errors)\u001b[0m\n\u001b[0;32m   3968\u001b[0m                 \u001b[0mnew_axis\u001b[0m \u001b[1;33m=\u001b[0m \u001b[0maxis\u001b[0m\u001b[1;33m.\u001b[0m\u001b[0mdrop\u001b[0m\u001b[1;33m(\u001b[0m\u001b[0mlabels\u001b[0m\u001b[1;33m,\u001b[0m \u001b[0mlevel\u001b[0m\u001b[1;33m=\u001b[0m\u001b[0mlevel\u001b[0m\u001b[1;33m,\u001b[0m \u001b[0merrors\u001b[0m\u001b[1;33m=\u001b[0m\u001b[0merrors\u001b[0m\u001b[1;33m)\u001b[0m\u001b[1;33m\u001b[0m\u001b[1;33m\u001b[0m\u001b[0m\n\u001b[0;32m   3969\u001b[0m             \u001b[1;32melse\u001b[0m\u001b[1;33m:\u001b[0m\u001b[1;33m\u001b[0m\u001b[1;33m\u001b[0m\u001b[0m\n\u001b[1;32m-> 3970\u001b[1;33m                 \u001b[0mnew_axis\u001b[0m \u001b[1;33m=\u001b[0m \u001b[0maxis\u001b[0m\u001b[1;33m.\u001b[0m\u001b[0mdrop\u001b[0m\u001b[1;33m(\u001b[0m\u001b[0mlabels\u001b[0m\u001b[1;33m,\u001b[0m \u001b[0merrors\u001b[0m\u001b[1;33m=\u001b[0m\u001b[0merrors\u001b[0m\u001b[1;33m)\u001b[0m\u001b[1;33m\u001b[0m\u001b[1;33m\u001b[0m\u001b[0m\n\u001b[0m\u001b[0;32m   3971\u001b[0m             \u001b[0mresult\u001b[0m \u001b[1;33m=\u001b[0m \u001b[0mself\u001b[0m\u001b[1;33m.\u001b[0m\u001b[0mreindex\u001b[0m\u001b[1;33m(\u001b[0m\u001b[1;33m**\u001b[0m\u001b[1;33m{\u001b[0m\u001b[0maxis_name\u001b[0m\u001b[1;33m:\u001b[0m \u001b[0mnew_axis\u001b[0m\u001b[1;33m}\u001b[0m\u001b[1;33m)\u001b[0m\u001b[1;33m\u001b[0m\u001b[1;33m\u001b[0m\u001b[0m\n\u001b[0;32m   3972\u001b[0m \u001b[1;33m\u001b[0m\u001b[0m\n",
      "\u001b[1;32mc:\\program files\\python38\\lib\\site-packages\\pandas\\core\\indexes\\base.py\u001b[0m in \u001b[0;36mdrop\u001b[1;34m(self, labels, errors)\u001b[0m\n\u001b[0;32m   5016\u001b[0m         \u001b[1;32mif\u001b[0m \u001b[0mmask\u001b[0m\u001b[1;33m.\u001b[0m\u001b[0many\u001b[0m\u001b[1;33m(\u001b[0m\u001b[1;33m)\u001b[0m\u001b[1;33m:\u001b[0m\u001b[1;33m\u001b[0m\u001b[1;33m\u001b[0m\u001b[0m\n\u001b[0;32m   5017\u001b[0m             \u001b[1;32mif\u001b[0m \u001b[0merrors\u001b[0m \u001b[1;33m!=\u001b[0m \u001b[1;34m\"ignore\"\u001b[0m\u001b[1;33m:\u001b[0m\u001b[1;33m\u001b[0m\u001b[1;33m\u001b[0m\u001b[0m\n\u001b[1;32m-> 5018\u001b[1;33m                 \u001b[1;32mraise\u001b[0m \u001b[0mKeyError\u001b[0m\u001b[1;33m(\u001b[0m\u001b[1;34mf\"{labels[mask]} not found in axis\"\u001b[0m\u001b[1;33m)\u001b[0m\u001b[1;33m\u001b[0m\u001b[1;33m\u001b[0m\u001b[0m\n\u001b[0m\u001b[0;32m   5019\u001b[0m             \u001b[0mindexer\u001b[0m \u001b[1;33m=\u001b[0m \u001b[0mindexer\u001b[0m\u001b[1;33m[\u001b[0m\u001b[1;33m~\u001b[0m\u001b[0mmask\u001b[0m\u001b[1;33m]\u001b[0m\u001b[1;33m\u001b[0m\u001b[1;33m\u001b[0m\u001b[0m\n\u001b[0;32m   5020\u001b[0m         \u001b[1;32mreturn\u001b[0m \u001b[0mself\u001b[0m\u001b[1;33m.\u001b[0m\u001b[0mdelete\u001b[0m\u001b[1;33m(\u001b[0m\u001b[0mindexer\u001b[0m\u001b[1;33m)\u001b[0m\u001b[1;33m\u001b[0m\u001b[1;33m\u001b[0m\u001b[0m\n",
      "\u001b[1;31mKeyError\u001b[0m: \"['WindSpeed'] not found in axis\""
     ]
    }
   ],
   "source": [
    "sdn = sdn.drop(['WindSpeed'], axis=1)"
   ]
  },
  {
   "cell_type": "code",
   "execution_count": 16,
   "id": "white-playing",
   "metadata": {},
   "outputs": [],
   "source": [
    "sdn['WindSpeed'] = (sdn['WindSpeed9am'] + sdn['WindSpeed3pm'])/2"
   ]
  },
  {
   "cell_type": "code",
   "execution_count": 17,
   "id": "finite-illustration",
   "metadata": {},
   "outputs": [
    {
     "ename": "KeyError",
     "evalue": "'Humidity9am'",
     "output_type": "error",
     "traceback": [
      "\u001b[1;31m---------------------------------------------------------------------------\u001b[0m",
      "\u001b[1;31mKeyError\u001b[0m                                  Traceback (most recent call last)",
      "\u001b[1;32mc:\\program files\\python38\\lib\\site-packages\\pandas\\core\\indexes\\base.py\u001b[0m in \u001b[0;36mget_loc\u001b[1;34m(self, key, method, tolerance)\u001b[0m\n\u001b[0;32m   2645\u001b[0m             \u001b[1;32mtry\u001b[0m\u001b[1;33m:\u001b[0m\u001b[1;33m\u001b[0m\u001b[1;33m\u001b[0m\u001b[0m\n\u001b[1;32m-> 2646\u001b[1;33m                 \u001b[1;32mreturn\u001b[0m \u001b[0mself\u001b[0m\u001b[1;33m.\u001b[0m\u001b[0m_engine\u001b[0m\u001b[1;33m.\u001b[0m\u001b[0mget_loc\u001b[0m\u001b[1;33m(\u001b[0m\u001b[0mkey\u001b[0m\u001b[1;33m)\u001b[0m\u001b[1;33m\u001b[0m\u001b[1;33m\u001b[0m\u001b[0m\n\u001b[0m\u001b[0;32m   2647\u001b[0m             \u001b[1;32mexcept\u001b[0m \u001b[0mKeyError\u001b[0m\u001b[1;33m:\u001b[0m\u001b[1;33m\u001b[0m\u001b[1;33m\u001b[0m\u001b[0m\n",
      "\u001b[1;32mpandas\\_libs\\index.pyx\u001b[0m in \u001b[0;36mpandas._libs.index.IndexEngine.get_loc\u001b[1;34m()\u001b[0m\n",
      "\u001b[1;32mpandas\\_libs\\index.pyx\u001b[0m in \u001b[0;36mpandas._libs.index.IndexEngine.get_loc\u001b[1;34m()\u001b[0m\n",
      "\u001b[1;32mpandas\\_libs\\hashtable_class_helper.pxi\u001b[0m in \u001b[0;36mpandas._libs.hashtable.PyObjectHashTable.get_item\u001b[1;34m()\u001b[0m\n",
      "\u001b[1;32mpandas\\_libs\\hashtable_class_helper.pxi\u001b[0m in \u001b[0;36mpandas._libs.hashtable.PyObjectHashTable.get_item\u001b[1;34m()\u001b[0m\n",
      "\u001b[1;31mKeyError\u001b[0m: 'Humidity9am'",
      "\nDuring handling of the above exception, another exception occurred:\n",
      "\u001b[1;31mKeyError\u001b[0m                                  Traceback (most recent call last)",
      "\u001b[1;32m<ipython-input-17-3cee194fd84c>\u001b[0m in \u001b[0;36m<module>\u001b[1;34m\u001b[0m\n\u001b[1;32m----> 1\u001b[1;33m \u001b[0msdn\u001b[0m\u001b[1;33m[\u001b[0m\u001b[1;34m'Humidity'\u001b[0m\u001b[1;33m]\u001b[0m \u001b[1;33m=\u001b[0m \u001b[1;33m(\u001b[0m\u001b[0msdn\u001b[0m\u001b[1;33m[\u001b[0m\u001b[1;34m'Humidity9am'\u001b[0m\u001b[1;33m]\u001b[0m \u001b[1;33m+\u001b[0m \u001b[0msdn\u001b[0m\u001b[1;33m[\u001b[0m\u001b[1;34m'Humidity3pm'\u001b[0m\u001b[1;33m]\u001b[0m\u001b[1;33m)\u001b[0m\u001b[1;33m/\u001b[0m\u001b[1;36m2\u001b[0m\u001b[1;33m\u001b[0m\u001b[1;33m\u001b[0m\u001b[0m\n\u001b[0m\u001b[0;32m      2\u001b[0m \u001b[0msdn\u001b[0m\u001b[1;33m[\u001b[0m\u001b[1;34m'Pressure'\u001b[0m\u001b[1;33m]\u001b[0m \u001b[1;33m=\u001b[0m \u001b[1;33m(\u001b[0m\u001b[0msdn\u001b[0m\u001b[1;33m[\u001b[0m\u001b[1;34m'Pressure9am'\u001b[0m\u001b[1;33m]\u001b[0m \u001b[1;33m+\u001b[0m \u001b[0msdn\u001b[0m\u001b[1;33m[\u001b[0m\u001b[1;34m'Pressure3pm'\u001b[0m\u001b[1;33m]\u001b[0m\u001b[1;33m)\u001b[0m\u001b[1;33m/\u001b[0m\u001b[1;36m2\u001b[0m\u001b[1;33m\u001b[0m\u001b[1;33m\u001b[0m\u001b[0m\n\u001b[0;32m      3\u001b[0m \u001b[0msdn\u001b[0m\u001b[1;33m[\u001b[0m\u001b[1;34m'Cloud'\u001b[0m\u001b[1;33m]\u001b[0m \u001b[1;33m=\u001b[0m \u001b[1;33m(\u001b[0m\u001b[0msdn\u001b[0m\u001b[1;33m[\u001b[0m\u001b[1;34m'Cloud9am'\u001b[0m\u001b[1;33m]\u001b[0m \u001b[1;33m+\u001b[0m \u001b[0msdn\u001b[0m\u001b[1;33m[\u001b[0m\u001b[1;34m'Cloud3pm'\u001b[0m\u001b[1;33m]\u001b[0m\u001b[1;33m)\u001b[0m\u001b[1;33m/\u001b[0m\u001b[1;36m2\u001b[0m\u001b[1;33m\u001b[0m\u001b[1;33m\u001b[0m\u001b[0m\n\u001b[0;32m      4\u001b[0m \u001b[0msdn\u001b[0m\u001b[1;33m[\u001b[0m\u001b[1;34m'Temp'\u001b[0m\u001b[1;33m]\u001b[0m \u001b[1;33m=\u001b[0m \u001b[1;33m(\u001b[0m\u001b[0msdn\u001b[0m\u001b[1;33m[\u001b[0m\u001b[1;34m'Temp9am'\u001b[0m\u001b[1;33m]\u001b[0m \u001b[1;33m+\u001b[0m \u001b[0msdn\u001b[0m\u001b[1;33m[\u001b[0m\u001b[1;34m'Temp3pm'\u001b[0m\u001b[1;33m]\u001b[0m\u001b[1;33m)\u001b[0m\u001b[1;33m/\u001b[0m\u001b[1;36m2\u001b[0m\u001b[1;33m\u001b[0m\u001b[1;33m\u001b[0m\u001b[0m\n",
      "\u001b[1;32mc:\\program files\\python38\\lib\\site-packages\\pandas\\core\\frame.py\u001b[0m in \u001b[0;36m__getitem__\u001b[1;34m(self, key)\u001b[0m\n\u001b[0;32m   2798\u001b[0m             \u001b[1;32mif\u001b[0m \u001b[0mself\u001b[0m\u001b[1;33m.\u001b[0m\u001b[0mcolumns\u001b[0m\u001b[1;33m.\u001b[0m\u001b[0mnlevels\u001b[0m \u001b[1;33m>\u001b[0m \u001b[1;36m1\u001b[0m\u001b[1;33m:\u001b[0m\u001b[1;33m\u001b[0m\u001b[1;33m\u001b[0m\u001b[0m\n\u001b[0;32m   2799\u001b[0m                 \u001b[1;32mreturn\u001b[0m \u001b[0mself\u001b[0m\u001b[1;33m.\u001b[0m\u001b[0m_getitem_multilevel\u001b[0m\u001b[1;33m(\u001b[0m\u001b[0mkey\u001b[0m\u001b[1;33m)\u001b[0m\u001b[1;33m\u001b[0m\u001b[1;33m\u001b[0m\u001b[0m\n\u001b[1;32m-> 2800\u001b[1;33m             \u001b[0mindexer\u001b[0m \u001b[1;33m=\u001b[0m \u001b[0mself\u001b[0m\u001b[1;33m.\u001b[0m\u001b[0mcolumns\u001b[0m\u001b[1;33m.\u001b[0m\u001b[0mget_loc\u001b[0m\u001b[1;33m(\u001b[0m\u001b[0mkey\u001b[0m\u001b[1;33m)\u001b[0m\u001b[1;33m\u001b[0m\u001b[1;33m\u001b[0m\u001b[0m\n\u001b[0m\u001b[0;32m   2801\u001b[0m             \u001b[1;32mif\u001b[0m \u001b[0mis_integer\u001b[0m\u001b[1;33m(\u001b[0m\u001b[0mindexer\u001b[0m\u001b[1;33m)\u001b[0m\u001b[1;33m:\u001b[0m\u001b[1;33m\u001b[0m\u001b[1;33m\u001b[0m\u001b[0m\n\u001b[0;32m   2802\u001b[0m                 \u001b[0mindexer\u001b[0m \u001b[1;33m=\u001b[0m \u001b[1;33m[\u001b[0m\u001b[0mindexer\u001b[0m\u001b[1;33m]\u001b[0m\u001b[1;33m\u001b[0m\u001b[1;33m\u001b[0m\u001b[0m\n",
      "\u001b[1;32mc:\\program files\\python38\\lib\\site-packages\\pandas\\core\\indexes\\base.py\u001b[0m in \u001b[0;36mget_loc\u001b[1;34m(self, key, method, tolerance)\u001b[0m\n\u001b[0;32m   2646\u001b[0m                 \u001b[1;32mreturn\u001b[0m \u001b[0mself\u001b[0m\u001b[1;33m.\u001b[0m\u001b[0m_engine\u001b[0m\u001b[1;33m.\u001b[0m\u001b[0mget_loc\u001b[0m\u001b[1;33m(\u001b[0m\u001b[0mkey\u001b[0m\u001b[1;33m)\u001b[0m\u001b[1;33m\u001b[0m\u001b[1;33m\u001b[0m\u001b[0m\n\u001b[0;32m   2647\u001b[0m             \u001b[1;32mexcept\u001b[0m \u001b[0mKeyError\u001b[0m\u001b[1;33m:\u001b[0m\u001b[1;33m\u001b[0m\u001b[1;33m\u001b[0m\u001b[0m\n\u001b[1;32m-> 2648\u001b[1;33m                 \u001b[1;32mreturn\u001b[0m \u001b[0mself\u001b[0m\u001b[1;33m.\u001b[0m\u001b[0m_engine\u001b[0m\u001b[1;33m.\u001b[0m\u001b[0mget_loc\u001b[0m\u001b[1;33m(\u001b[0m\u001b[0mself\u001b[0m\u001b[1;33m.\u001b[0m\u001b[0m_maybe_cast_indexer\u001b[0m\u001b[1;33m(\u001b[0m\u001b[0mkey\u001b[0m\u001b[1;33m)\u001b[0m\u001b[1;33m)\u001b[0m\u001b[1;33m\u001b[0m\u001b[1;33m\u001b[0m\u001b[0m\n\u001b[0m\u001b[0;32m   2649\u001b[0m         \u001b[0mindexer\u001b[0m \u001b[1;33m=\u001b[0m \u001b[0mself\u001b[0m\u001b[1;33m.\u001b[0m\u001b[0mget_indexer\u001b[0m\u001b[1;33m(\u001b[0m\u001b[1;33m[\u001b[0m\u001b[0mkey\u001b[0m\u001b[1;33m]\u001b[0m\u001b[1;33m,\u001b[0m \u001b[0mmethod\u001b[0m\u001b[1;33m=\u001b[0m\u001b[0mmethod\u001b[0m\u001b[1;33m,\u001b[0m \u001b[0mtolerance\u001b[0m\u001b[1;33m=\u001b[0m\u001b[0mtolerance\u001b[0m\u001b[1;33m)\u001b[0m\u001b[1;33m\u001b[0m\u001b[1;33m\u001b[0m\u001b[0m\n\u001b[0;32m   2650\u001b[0m         \u001b[1;32mif\u001b[0m \u001b[0mindexer\u001b[0m\u001b[1;33m.\u001b[0m\u001b[0mndim\u001b[0m \u001b[1;33m>\u001b[0m \u001b[1;36m1\u001b[0m \u001b[1;32mor\u001b[0m \u001b[0mindexer\u001b[0m\u001b[1;33m.\u001b[0m\u001b[0msize\u001b[0m \u001b[1;33m>\u001b[0m \u001b[1;36m1\u001b[0m\u001b[1;33m:\u001b[0m\u001b[1;33m\u001b[0m\u001b[1;33m\u001b[0m\u001b[0m\n",
      "\u001b[1;32mpandas\\_libs\\index.pyx\u001b[0m in \u001b[0;36mpandas._libs.index.IndexEngine.get_loc\u001b[1;34m()\u001b[0m\n",
      "\u001b[1;32mpandas\\_libs\\index.pyx\u001b[0m in \u001b[0;36mpandas._libs.index.IndexEngine.get_loc\u001b[1;34m()\u001b[0m\n",
      "\u001b[1;32mpandas\\_libs\\hashtable_class_helper.pxi\u001b[0m in \u001b[0;36mpandas._libs.hashtable.PyObjectHashTable.get_item\u001b[1;34m()\u001b[0m\n",
      "\u001b[1;32mpandas\\_libs\\hashtable_class_helper.pxi\u001b[0m in \u001b[0;36mpandas._libs.hashtable.PyObjectHashTable.get_item\u001b[1;34m()\u001b[0m\n",
      "\u001b[1;31mKeyError\u001b[0m: 'Humidity9am'"
     ]
    }
   ],
   "source": [
    "sdn['Humidity'] = (sdn['Humidity9am'] + sdn['Humidity3pm'])/2\n",
    "sdn['Pressure'] = (sdn['Pressure9am'] + sdn['Pressure3pm'])/2\n",
    "sdn['Cloud'] = (sdn['Cloud9am'] + sdn['Cloud3pm'])/2\n",
    "sdn['Temp'] = (sdn['Temp9am'] + sdn['Temp3pm'])/2"
   ]
  },
  {
   "cell_type": "code",
   "execution_count": 18,
   "id": "exceptional-supervisor",
   "metadata": {},
   "outputs": [
    {
     "ename": "KeyError",
     "evalue": "\"['Humidity9am' 'Humidity3pm' 'Pressure3pm' 'Pressure9am' 'Cloud3pm'\\n 'Cloud9am' 'Temp3pm' 'Temp9am'] not found in axis\"",
     "output_type": "error",
     "traceback": [
      "\u001b[1;31m---------------------------------------------------------------------------\u001b[0m",
      "\u001b[1;31mKeyError\u001b[0m                                  Traceback (most recent call last)",
      "\u001b[1;32m<ipython-input-18-921e4025d4df>\u001b[0m in \u001b[0;36m<module>\u001b[1;34m\u001b[0m\n\u001b[1;32m----> 1\u001b[1;33m \u001b[0msdn\u001b[0m \u001b[1;33m=\u001b[0m \u001b[0msdn\u001b[0m\u001b[1;33m.\u001b[0m\u001b[0mdrop\u001b[0m\u001b[1;33m(\u001b[0m\u001b[1;33m[\u001b[0m\u001b[1;34m'Humidity9am'\u001b[0m\u001b[1;33m,\u001b[0m \u001b[1;34m'Humidity3pm'\u001b[0m\u001b[1;33m,\u001b[0m \u001b[1;34m'Pressure3pm'\u001b[0m\u001b[1;33m,\u001b[0m \u001b[1;34m'Pressure9am'\u001b[0m\u001b[1;33m,\u001b[0m \u001b[1;34m'Cloud3pm'\u001b[0m\u001b[1;33m,\u001b[0m \u001b[1;34m'Cloud9am'\u001b[0m\u001b[1;33m,\u001b[0m \u001b[1;34m'Temp3pm'\u001b[0m\u001b[1;33m,\u001b[0m \u001b[1;34m'Temp9am'\u001b[0m\u001b[1;33m]\u001b[0m\u001b[1;33m,\u001b[0m \u001b[0maxis\u001b[0m\u001b[1;33m=\u001b[0m\u001b[1;36m1\u001b[0m\u001b[1;33m)\u001b[0m\u001b[1;33m\u001b[0m\u001b[1;33m\u001b[0m\u001b[0m\n\u001b[0m",
      "\u001b[1;32mc:\\program files\\python38\\lib\\site-packages\\pandas\\core\\frame.py\u001b[0m in \u001b[0;36mdrop\u001b[1;34m(self, labels, axis, index, columns, level, inplace, errors)\u001b[0m\n\u001b[0;32m   3988\u001b[0m                 \u001b[0mweight\u001b[0m  \u001b[1;36m1.0\u001b[0m     \u001b[1;36m0.8\u001b[0m\u001b[1;33m\u001b[0m\u001b[1;33m\u001b[0m\u001b[0m\n\u001b[0;32m   3989\u001b[0m         \"\"\"\n\u001b[1;32m-> 3990\u001b[1;33m         return super().drop(\n\u001b[0m\u001b[0;32m   3991\u001b[0m             \u001b[0mlabels\u001b[0m\u001b[1;33m=\u001b[0m\u001b[0mlabels\u001b[0m\u001b[1;33m,\u001b[0m\u001b[1;33m\u001b[0m\u001b[1;33m\u001b[0m\u001b[0m\n\u001b[0;32m   3992\u001b[0m             \u001b[0maxis\u001b[0m\u001b[1;33m=\u001b[0m\u001b[0maxis\u001b[0m\u001b[1;33m,\u001b[0m\u001b[1;33m\u001b[0m\u001b[1;33m\u001b[0m\u001b[0m\n",
      "\u001b[1;32mc:\\program files\\python38\\lib\\site-packages\\pandas\\core\\generic.py\u001b[0m in \u001b[0;36mdrop\u001b[1;34m(self, labels, axis, index, columns, level, inplace, errors)\u001b[0m\n\u001b[0;32m   3934\u001b[0m         \u001b[1;32mfor\u001b[0m \u001b[0maxis\u001b[0m\u001b[1;33m,\u001b[0m \u001b[0mlabels\u001b[0m \u001b[1;32min\u001b[0m \u001b[0maxes\u001b[0m\u001b[1;33m.\u001b[0m\u001b[0mitems\u001b[0m\u001b[1;33m(\u001b[0m\u001b[1;33m)\u001b[0m\u001b[1;33m:\u001b[0m\u001b[1;33m\u001b[0m\u001b[1;33m\u001b[0m\u001b[0m\n\u001b[0;32m   3935\u001b[0m             \u001b[1;32mif\u001b[0m \u001b[0mlabels\u001b[0m \u001b[1;32mis\u001b[0m \u001b[1;32mnot\u001b[0m \u001b[1;32mNone\u001b[0m\u001b[1;33m:\u001b[0m\u001b[1;33m\u001b[0m\u001b[1;33m\u001b[0m\u001b[0m\n\u001b[1;32m-> 3936\u001b[1;33m                 \u001b[0mobj\u001b[0m \u001b[1;33m=\u001b[0m \u001b[0mobj\u001b[0m\u001b[1;33m.\u001b[0m\u001b[0m_drop_axis\u001b[0m\u001b[1;33m(\u001b[0m\u001b[0mlabels\u001b[0m\u001b[1;33m,\u001b[0m \u001b[0maxis\u001b[0m\u001b[1;33m,\u001b[0m \u001b[0mlevel\u001b[0m\u001b[1;33m=\u001b[0m\u001b[0mlevel\u001b[0m\u001b[1;33m,\u001b[0m \u001b[0merrors\u001b[0m\u001b[1;33m=\u001b[0m\u001b[0merrors\u001b[0m\u001b[1;33m)\u001b[0m\u001b[1;33m\u001b[0m\u001b[1;33m\u001b[0m\u001b[0m\n\u001b[0m\u001b[0;32m   3937\u001b[0m \u001b[1;33m\u001b[0m\u001b[0m\n\u001b[0;32m   3938\u001b[0m         \u001b[1;32mif\u001b[0m \u001b[0minplace\u001b[0m\u001b[1;33m:\u001b[0m\u001b[1;33m\u001b[0m\u001b[1;33m\u001b[0m\u001b[0m\n",
      "\u001b[1;32mc:\\program files\\python38\\lib\\site-packages\\pandas\\core\\generic.py\u001b[0m in \u001b[0;36m_drop_axis\u001b[1;34m(self, labels, axis, level, errors)\u001b[0m\n\u001b[0;32m   3968\u001b[0m                 \u001b[0mnew_axis\u001b[0m \u001b[1;33m=\u001b[0m \u001b[0maxis\u001b[0m\u001b[1;33m.\u001b[0m\u001b[0mdrop\u001b[0m\u001b[1;33m(\u001b[0m\u001b[0mlabels\u001b[0m\u001b[1;33m,\u001b[0m \u001b[0mlevel\u001b[0m\u001b[1;33m=\u001b[0m\u001b[0mlevel\u001b[0m\u001b[1;33m,\u001b[0m \u001b[0merrors\u001b[0m\u001b[1;33m=\u001b[0m\u001b[0merrors\u001b[0m\u001b[1;33m)\u001b[0m\u001b[1;33m\u001b[0m\u001b[1;33m\u001b[0m\u001b[0m\n\u001b[0;32m   3969\u001b[0m             \u001b[1;32melse\u001b[0m\u001b[1;33m:\u001b[0m\u001b[1;33m\u001b[0m\u001b[1;33m\u001b[0m\u001b[0m\n\u001b[1;32m-> 3970\u001b[1;33m                 \u001b[0mnew_axis\u001b[0m \u001b[1;33m=\u001b[0m \u001b[0maxis\u001b[0m\u001b[1;33m.\u001b[0m\u001b[0mdrop\u001b[0m\u001b[1;33m(\u001b[0m\u001b[0mlabels\u001b[0m\u001b[1;33m,\u001b[0m \u001b[0merrors\u001b[0m\u001b[1;33m=\u001b[0m\u001b[0merrors\u001b[0m\u001b[1;33m)\u001b[0m\u001b[1;33m\u001b[0m\u001b[1;33m\u001b[0m\u001b[0m\n\u001b[0m\u001b[0;32m   3971\u001b[0m             \u001b[0mresult\u001b[0m \u001b[1;33m=\u001b[0m \u001b[0mself\u001b[0m\u001b[1;33m.\u001b[0m\u001b[0mreindex\u001b[0m\u001b[1;33m(\u001b[0m\u001b[1;33m**\u001b[0m\u001b[1;33m{\u001b[0m\u001b[0maxis_name\u001b[0m\u001b[1;33m:\u001b[0m \u001b[0mnew_axis\u001b[0m\u001b[1;33m}\u001b[0m\u001b[1;33m)\u001b[0m\u001b[1;33m\u001b[0m\u001b[1;33m\u001b[0m\u001b[0m\n\u001b[0;32m   3972\u001b[0m \u001b[1;33m\u001b[0m\u001b[0m\n",
      "\u001b[1;32mc:\\program files\\python38\\lib\\site-packages\\pandas\\core\\indexes\\base.py\u001b[0m in \u001b[0;36mdrop\u001b[1;34m(self, labels, errors)\u001b[0m\n\u001b[0;32m   5016\u001b[0m         \u001b[1;32mif\u001b[0m \u001b[0mmask\u001b[0m\u001b[1;33m.\u001b[0m\u001b[0many\u001b[0m\u001b[1;33m(\u001b[0m\u001b[1;33m)\u001b[0m\u001b[1;33m:\u001b[0m\u001b[1;33m\u001b[0m\u001b[1;33m\u001b[0m\u001b[0m\n\u001b[0;32m   5017\u001b[0m             \u001b[1;32mif\u001b[0m \u001b[0merrors\u001b[0m \u001b[1;33m!=\u001b[0m \u001b[1;34m\"ignore\"\u001b[0m\u001b[1;33m:\u001b[0m\u001b[1;33m\u001b[0m\u001b[1;33m\u001b[0m\u001b[0m\n\u001b[1;32m-> 5018\u001b[1;33m                 \u001b[1;32mraise\u001b[0m \u001b[0mKeyError\u001b[0m\u001b[1;33m(\u001b[0m\u001b[1;34mf\"{labels[mask]} not found in axis\"\u001b[0m\u001b[1;33m)\u001b[0m\u001b[1;33m\u001b[0m\u001b[1;33m\u001b[0m\u001b[0m\n\u001b[0m\u001b[0;32m   5019\u001b[0m             \u001b[0mindexer\u001b[0m \u001b[1;33m=\u001b[0m \u001b[0mindexer\u001b[0m\u001b[1;33m[\u001b[0m\u001b[1;33m~\u001b[0m\u001b[0mmask\u001b[0m\u001b[1;33m]\u001b[0m\u001b[1;33m\u001b[0m\u001b[1;33m\u001b[0m\u001b[0m\n\u001b[0;32m   5020\u001b[0m         \u001b[1;32mreturn\u001b[0m \u001b[0mself\u001b[0m\u001b[1;33m.\u001b[0m\u001b[0mdelete\u001b[0m\u001b[1;33m(\u001b[0m\u001b[0mindexer\u001b[0m\u001b[1;33m)\u001b[0m\u001b[1;33m\u001b[0m\u001b[1;33m\u001b[0m\u001b[0m\n",
      "\u001b[1;31mKeyError\u001b[0m: \"['Humidity9am' 'Humidity3pm' 'Pressure3pm' 'Pressure9am' 'Cloud3pm'\\n 'Cloud9am' 'Temp3pm' 'Temp9am'] not found in axis\""
     ]
    }
   ],
   "source": [
    "sdn = sdn.drop(['Humidity9am', 'Humidity3pm', 'Pressure3pm', 'Pressure9am', 'Cloud3pm', 'Cloud9am', 'Temp3pm', 'Temp9am'], axis=1)"
   ]
  },
  {
   "cell_type": "code",
   "execution_count": 19,
   "id": "through-finding",
   "metadata": {},
   "outputs": [
    {
     "data": {
      "text/html": [
       "<div>\n",
       "<style scoped>\n",
       "    .dataframe tbody tr th:only-of-type {\n",
       "        vertical-align: middle;\n",
       "    }\n",
       "\n",
       "    .dataframe tbody tr th {\n",
       "        vertical-align: top;\n",
       "    }\n",
       "\n",
       "    .dataframe thead th {\n",
       "        text-align: right;\n",
       "    }\n",
       "</style>\n",
       "<table border=\"1\" class=\"dataframe\">\n",
       "  <thead>\n",
       "    <tr style=\"text-align: right;\">\n",
       "      <th></th>\n",
       "      <th>Date</th>\n",
       "      <th>Location</th>\n",
       "      <th>MinTemp</th>\n",
       "      <th>MaxTemp</th>\n",
       "      <th>Rainfall</th>\n",
       "      <th>Evaporation</th>\n",
       "      <th>Sunshine</th>\n",
       "      <th>WindGustDir</th>\n",
       "      <th>WindGustSpeed</th>\n",
       "      <th>WindDir9am</th>\n",
       "      <th>WindDir3pm</th>\n",
       "      <th>WindSpeed9am</th>\n",
       "      <th>WindSpeed3pm</th>\n",
       "      <th>RainToday</th>\n",
       "      <th>RainTomorrow</th>\n",
       "      <th>Humidity</th>\n",
       "      <th>Pressure</th>\n",
       "      <th>Cloud</th>\n",
       "      <th>Temp</th>\n",
       "      <th>WindSpeed</th>\n",
       "    </tr>\n",
       "  </thead>\n",
       "  <tbody>\n",
       "    <tr>\n",
       "      <th>30176</th>\n",
       "      <td>2008-02-01</td>\n",
       "      <td>Sydney</td>\n",
       "      <td>19.5</td>\n",
       "      <td>22.4</td>\n",
       "      <td>15.6</td>\n",
       "      <td>6.2</td>\n",
       "      <td>0.0</td>\n",
       "      <td>NaN</td>\n",
       "      <td>NaN</td>\n",
       "      <td>S</td>\n",
       "      <td>SSW</td>\n",
       "      <td>17.0</td>\n",
       "      <td>20.0</td>\n",
       "      <td>Yes</td>\n",
       "      <td>Yes</td>\n",
       "      <td>88.0</td>\n",
       "      <td>1017.50</td>\n",
       "      <td>8.0</td>\n",
       "      <td>20.80</td>\n",
       "      <td>18.5</td>\n",
       "    </tr>\n",
       "    <tr>\n",
       "      <th>30177</th>\n",
       "      <td>2008-02-02</td>\n",
       "      <td>Sydney</td>\n",
       "      <td>19.5</td>\n",
       "      <td>25.6</td>\n",
       "      <td>6.0</td>\n",
       "      <td>3.4</td>\n",
       "      <td>2.7</td>\n",
       "      <td>NaN</td>\n",
       "      <td>NaN</td>\n",
       "      <td>W</td>\n",
       "      <td>E</td>\n",
       "      <td>9.0</td>\n",
       "      <td>13.0</td>\n",
       "      <td>Yes</td>\n",
       "      <td>Yes</td>\n",
       "      <td>78.0</td>\n",
       "      <td>1017.15</td>\n",
       "      <td>7.0</td>\n",
       "      <td>23.60</td>\n",
       "      <td>11.0</td>\n",
       "    </tr>\n",
       "    <tr>\n",
       "      <th>30178</th>\n",
       "      <td>2008-02-03</td>\n",
       "      <td>Sydney</td>\n",
       "      <td>21.6</td>\n",
       "      <td>24.5</td>\n",
       "      <td>6.6</td>\n",
       "      <td>2.4</td>\n",
       "      <td>0.1</td>\n",
       "      <td>NaN</td>\n",
       "      <td>NaN</td>\n",
       "      <td>ESE</td>\n",
       "      <td>ESE</td>\n",
       "      <td>17.0</td>\n",
       "      <td>2.0</td>\n",
       "      <td>Yes</td>\n",
       "      <td>Yes</td>\n",
       "      <td>87.0</td>\n",
       "      <td>1016.15</td>\n",
       "      <td>7.5</td>\n",
       "      <td>23.25</td>\n",
       "      <td>9.5</td>\n",
       "    </tr>\n",
       "    <tr>\n",
       "      <th>30179</th>\n",
       "      <td>2008-02-04</td>\n",
       "      <td>Sydney</td>\n",
       "      <td>20.2</td>\n",
       "      <td>22.8</td>\n",
       "      <td>18.8</td>\n",
       "      <td>2.2</td>\n",
       "      <td>0.0</td>\n",
       "      <td>NaN</td>\n",
       "      <td>NaN</td>\n",
       "      <td>NNE</td>\n",
       "      <td>E</td>\n",
       "      <td>22.0</td>\n",
       "      <td>20.0</td>\n",
       "      <td>Yes</td>\n",
       "      <td>Yes</td>\n",
       "      <td>86.5</td>\n",
       "      <td>1013.00</td>\n",
       "      <td>8.0</td>\n",
       "      <td>21.15</td>\n",
       "      <td>21.0</td>\n",
       "    </tr>\n",
       "    <tr>\n",
       "      <th>30180</th>\n",
       "      <td>2008-02-05</td>\n",
       "      <td>Sydney</td>\n",
       "      <td>19.7</td>\n",
       "      <td>25.7</td>\n",
       "      <td>77.4</td>\n",
       "      <td>NaN</td>\n",
       "      <td>0.0</td>\n",
       "      <td>NaN</td>\n",
       "      <td>NaN</td>\n",
       "      <td>NNE</td>\n",
       "      <td>W</td>\n",
       "      <td>11.0</td>\n",
       "      <td>6.0</td>\n",
       "      <td>Yes</td>\n",
       "      <td>Yes</td>\n",
       "      <td>81.0</td>\n",
       "      <td>1006.55</td>\n",
       "      <td>8.0</td>\n",
       "      <td>24.00</td>\n",
       "      <td>8.5</td>\n",
       "    </tr>\n",
       "  </tbody>\n",
       "</table>\n",
       "</div>"
      ],
      "text/plain": [
       "             Date Location  MinTemp  MaxTemp  Rainfall  Evaporation  Sunshine  \\\n",
       "30176  2008-02-01   Sydney     19.5     22.4      15.6          6.2       0.0   \n",
       "30177  2008-02-02   Sydney     19.5     25.6       6.0          3.4       2.7   \n",
       "30178  2008-02-03   Sydney     21.6     24.5       6.6          2.4       0.1   \n",
       "30179  2008-02-04   Sydney     20.2     22.8      18.8          2.2       0.0   \n",
       "30180  2008-02-05   Sydney     19.7     25.7      77.4          NaN       0.0   \n",
       "\n",
       "      WindGustDir  WindGustSpeed WindDir9am WindDir3pm  WindSpeed9am  \\\n",
       "30176         NaN            NaN          S        SSW          17.0   \n",
       "30177         NaN            NaN          W          E           9.0   \n",
       "30178         NaN            NaN        ESE        ESE          17.0   \n",
       "30179         NaN            NaN        NNE          E          22.0   \n",
       "30180         NaN            NaN        NNE          W          11.0   \n",
       "\n",
       "       WindSpeed3pm RainToday RainTomorrow  Humidity  Pressure  Cloud   Temp  \\\n",
       "30176          20.0       Yes          Yes      88.0   1017.50    8.0  20.80   \n",
       "30177          13.0       Yes          Yes      78.0   1017.15    7.0  23.60   \n",
       "30178           2.0       Yes          Yes      87.0   1016.15    7.5  23.25   \n",
       "30179          20.0       Yes          Yes      86.5   1013.00    8.0  21.15   \n",
       "30180           6.0       Yes          Yes      81.0   1006.55    8.0  24.00   \n",
       "\n",
       "       WindSpeed  \n",
       "30176       18.5  \n",
       "30177       11.0  \n",
       "30178        9.5  \n",
       "30179       21.0  \n",
       "30180        8.5  "
      ]
     },
     "execution_count": 19,
     "metadata": {},
     "output_type": "execute_result"
    }
   ],
   "source": [
    "sdn.head()"
   ]
  },
  {
   "cell_type": "code",
   "execution_count": 20,
   "id": "higher-department",
   "metadata": {},
   "outputs": [],
   "source": [
    "sdn = sdn.drop(['WindSpeed9am', 'WindSpeed3pm'], axis=1)"
   ]
  },
  {
   "cell_type": "markdown",
   "id": "polar-andrew",
   "metadata": {},
   "source": [
    "#### We have temp average so we can romove Min\\maxTemp columns"
   ]
  },
  {
   "cell_type": "code",
   "execution_count": 21,
   "id": "adopted-robert",
   "metadata": {},
   "outputs": [],
   "source": [
    "sdn = sdn.drop(['MinTemp', 'MaxTemp'], axis=1)"
   ]
  },
  {
   "cell_type": "markdown",
   "id": "opening-cambridge",
   "metadata": {},
   "source": [
    "We will remove also all wind dir and speed from the data also"
   ]
  },
  {
   "cell_type": "code",
   "execution_count": 22,
   "id": "effective-martial",
   "metadata": {},
   "outputs": [],
   "source": [
    "sdn = sdn.drop(['WindGustDir', 'WindGustSpeed', 'WindDir9am', 'WindDir3pm'], axis=1)"
   ]
  },
  {
   "cell_type": "code",
   "execution_count": 23,
   "id": "daily-championship",
   "metadata": {},
   "outputs": [
    {
     "data": {
      "text/html": [
       "<div>\n",
       "<style scoped>\n",
       "    .dataframe tbody tr th:only-of-type {\n",
       "        vertical-align: middle;\n",
       "    }\n",
       "\n",
       "    .dataframe tbody tr th {\n",
       "        vertical-align: top;\n",
       "    }\n",
       "\n",
       "    .dataframe thead th {\n",
       "        text-align: right;\n",
       "    }\n",
       "</style>\n",
       "<table border=\"1\" class=\"dataframe\">\n",
       "  <thead>\n",
       "    <tr style=\"text-align: right;\">\n",
       "      <th></th>\n",
       "      <th>Date</th>\n",
       "      <th>Location</th>\n",
       "      <th>Rainfall</th>\n",
       "      <th>Evaporation</th>\n",
       "      <th>Sunshine</th>\n",
       "      <th>RainToday</th>\n",
       "      <th>RainTomorrow</th>\n",
       "      <th>Humidity</th>\n",
       "      <th>Pressure</th>\n",
       "      <th>Cloud</th>\n",
       "      <th>Temp</th>\n",
       "      <th>WindSpeed</th>\n",
       "    </tr>\n",
       "  </thead>\n",
       "  <tbody>\n",
       "    <tr>\n",
       "      <th>30176</th>\n",
       "      <td>2008-02-01</td>\n",
       "      <td>Sydney</td>\n",
       "      <td>15.6</td>\n",
       "      <td>6.2</td>\n",
       "      <td>0.0</td>\n",
       "      <td>Yes</td>\n",
       "      <td>Yes</td>\n",
       "      <td>88.0</td>\n",
       "      <td>1017.50</td>\n",
       "      <td>8.0</td>\n",
       "      <td>20.80</td>\n",
       "      <td>18.5</td>\n",
       "    </tr>\n",
       "    <tr>\n",
       "      <th>30177</th>\n",
       "      <td>2008-02-02</td>\n",
       "      <td>Sydney</td>\n",
       "      <td>6.0</td>\n",
       "      <td>3.4</td>\n",
       "      <td>2.7</td>\n",
       "      <td>Yes</td>\n",
       "      <td>Yes</td>\n",
       "      <td>78.0</td>\n",
       "      <td>1017.15</td>\n",
       "      <td>7.0</td>\n",
       "      <td>23.60</td>\n",
       "      <td>11.0</td>\n",
       "    </tr>\n",
       "    <tr>\n",
       "      <th>30178</th>\n",
       "      <td>2008-02-03</td>\n",
       "      <td>Sydney</td>\n",
       "      <td>6.6</td>\n",
       "      <td>2.4</td>\n",
       "      <td>0.1</td>\n",
       "      <td>Yes</td>\n",
       "      <td>Yes</td>\n",
       "      <td>87.0</td>\n",
       "      <td>1016.15</td>\n",
       "      <td>7.5</td>\n",
       "      <td>23.25</td>\n",
       "      <td>9.5</td>\n",
       "    </tr>\n",
       "    <tr>\n",
       "      <th>30179</th>\n",
       "      <td>2008-02-04</td>\n",
       "      <td>Sydney</td>\n",
       "      <td>18.8</td>\n",
       "      <td>2.2</td>\n",
       "      <td>0.0</td>\n",
       "      <td>Yes</td>\n",
       "      <td>Yes</td>\n",
       "      <td>86.5</td>\n",
       "      <td>1013.00</td>\n",
       "      <td>8.0</td>\n",
       "      <td>21.15</td>\n",
       "      <td>21.0</td>\n",
       "    </tr>\n",
       "    <tr>\n",
       "      <th>30180</th>\n",
       "      <td>2008-02-05</td>\n",
       "      <td>Sydney</td>\n",
       "      <td>77.4</td>\n",
       "      <td>NaN</td>\n",
       "      <td>0.0</td>\n",
       "      <td>Yes</td>\n",
       "      <td>Yes</td>\n",
       "      <td>81.0</td>\n",
       "      <td>1006.55</td>\n",
       "      <td>8.0</td>\n",
       "      <td>24.00</td>\n",
       "      <td>8.5</td>\n",
       "    </tr>\n",
       "  </tbody>\n",
       "</table>\n",
       "</div>"
      ],
      "text/plain": [
       "             Date Location  Rainfall  Evaporation  Sunshine RainToday  \\\n",
       "30176  2008-02-01   Sydney      15.6          6.2       0.0       Yes   \n",
       "30177  2008-02-02   Sydney       6.0          3.4       2.7       Yes   \n",
       "30178  2008-02-03   Sydney       6.6          2.4       0.1       Yes   \n",
       "30179  2008-02-04   Sydney      18.8          2.2       0.0       Yes   \n",
       "30180  2008-02-05   Sydney      77.4          NaN       0.0       Yes   \n",
       "\n",
       "      RainTomorrow  Humidity  Pressure  Cloud   Temp  WindSpeed  \n",
       "30176          Yes      88.0   1017.50    8.0  20.80       18.5  \n",
       "30177          Yes      78.0   1017.15    7.0  23.60       11.0  \n",
       "30178          Yes      87.0   1016.15    7.5  23.25        9.5  \n",
       "30179          Yes      86.5   1013.00    8.0  21.15       21.0  \n",
       "30180          Yes      81.0   1006.55    8.0  24.00        8.5  "
      ]
     },
     "execution_count": 23,
     "metadata": {},
     "output_type": "execute_result"
    }
   ],
   "source": [
    "sdn.head()"
   ]
  },
  {
   "cell_type": "code",
   "execution_count": 24,
   "id": "continent-seattle",
   "metadata": {},
   "outputs": [],
   "source": [
    "sdn.sort_values(by=['Date'])\n",
    "sdn = sdn.drop(['Location'], axis=1)"
   ]
  },
  {
   "cell_type": "code",
   "execution_count": 25,
   "id": "analyzed-league",
   "metadata": {},
   "outputs": [],
   "source": [
    "sdn['RainToday'].fillna(value=sdn['RainToday'].mode()[0],inplace=True )\n",
    "sdn['RainTomorrow'].fillna(value=sdn['RainTomorrow'].mode()[0],inplace=True )"
   ]
  },
  {
   "cell_type": "code",
   "execution_count": 26,
   "id": "understood-happening",
   "metadata": {},
   "outputs": [
    {
     "data": {
      "text/plain": [
       "Date             0\n",
       "Rainfall         7\n",
       "Evaporation     51\n",
       "Sunshine        16\n",
       "RainToday        0\n",
       "RainTomorrow     0\n",
       "Humidity         0\n",
       "Pressure         0\n",
       "Cloud            0\n",
       "Temp             0\n",
       "WindSpeed        0\n",
       "dtype: int64"
      ]
     },
     "execution_count": 26,
     "metadata": {},
     "output_type": "execute_result"
    }
   ],
   "source": [
    "sdn.isnull().sum()"
   ]
  },
  {
   "cell_type": "code",
   "execution_count": 27,
   "id": "juvenile-knock",
   "metadata": {},
   "outputs": [],
   "source": [
    "sdn['Date'] = pd.to_datetime(sdn['Date'])\n",
    "sdn['Year'] = sdn['Date'].dt.year\n",
    "sdn['Month'] = sdn['Date'].dt.month\n",
    "sdn['Day'] = sdn['Date'].dt.day\n",
    "\n",
    "sdn = sdn.drop(columns='Date')"
   ]
  },
  {
   "cell_type": "code",
   "execution_count": 28,
   "id": "front-digest",
   "metadata": {},
   "outputs": [
    {
     "data": {
      "text/plain": [
       "Rainfall         7\n",
       "Evaporation     51\n",
       "Sunshine        16\n",
       "RainToday        0\n",
       "RainTomorrow     0\n",
       "Humidity         0\n",
       "Pressure         0\n",
       "Cloud            0\n",
       "Temp             0\n",
       "WindSpeed        0\n",
       "Year             0\n",
       "Month            0\n",
       "Day              0\n",
       "dtype: int64"
      ]
     },
     "execution_count": 28,
     "metadata": {},
     "output_type": "execute_result"
    }
   ],
   "source": [
    "sdn.isnull().sum()"
   ]
  },
  {
   "cell_type": "code",
   "execution_count": 29,
   "id": "tight-services",
   "metadata": {},
   "outputs": [
    {
     "data": {
      "text/html": [
       "<div>\n",
       "<style scoped>\n",
       "    .dataframe tbody tr th:only-of-type {\n",
       "        vertical-align: middle;\n",
       "    }\n",
       "\n",
       "    .dataframe tbody tr th {\n",
       "        vertical-align: top;\n",
       "    }\n",
       "\n",
       "    .dataframe thead th {\n",
       "        text-align: right;\n",
       "    }\n",
       "</style>\n",
       "<table border=\"1\" class=\"dataframe\">\n",
       "  <thead>\n",
       "    <tr style=\"text-align: right;\">\n",
       "      <th></th>\n",
       "      <th>Rainfall</th>\n",
       "      <th>Evaporation</th>\n",
       "      <th>Sunshine</th>\n",
       "      <th>RainToday</th>\n",
       "      <th>RainTomorrow</th>\n",
       "      <th>Humidity</th>\n",
       "      <th>Pressure</th>\n",
       "      <th>Cloud</th>\n",
       "      <th>Temp</th>\n",
       "      <th>WindSpeed</th>\n",
       "      <th>Year</th>\n",
       "      <th>Month</th>\n",
       "      <th>Day</th>\n",
       "    </tr>\n",
       "  </thead>\n",
       "  <tbody>\n",
       "    <tr>\n",
       "      <th>30176</th>\n",
       "      <td>15.6</td>\n",
       "      <td>6.2</td>\n",
       "      <td>0.0</td>\n",
       "      <td>Yes</td>\n",
       "      <td>Yes</td>\n",
       "      <td>88.0</td>\n",
       "      <td>1017.50</td>\n",
       "      <td>8.0</td>\n",
       "      <td>20.80</td>\n",
       "      <td>18.5</td>\n",
       "      <td>2008</td>\n",
       "      <td>2</td>\n",
       "      <td>1</td>\n",
       "    </tr>\n",
       "    <tr>\n",
       "      <th>30177</th>\n",
       "      <td>6.0</td>\n",
       "      <td>3.4</td>\n",
       "      <td>2.7</td>\n",
       "      <td>Yes</td>\n",
       "      <td>Yes</td>\n",
       "      <td>78.0</td>\n",
       "      <td>1017.15</td>\n",
       "      <td>7.0</td>\n",
       "      <td>23.60</td>\n",
       "      <td>11.0</td>\n",
       "      <td>2008</td>\n",
       "      <td>2</td>\n",
       "      <td>2</td>\n",
       "    </tr>\n",
       "    <tr>\n",
       "      <th>30178</th>\n",
       "      <td>6.6</td>\n",
       "      <td>2.4</td>\n",
       "      <td>0.1</td>\n",
       "      <td>Yes</td>\n",
       "      <td>Yes</td>\n",
       "      <td>87.0</td>\n",
       "      <td>1016.15</td>\n",
       "      <td>7.5</td>\n",
       "      <td>23.25</td>\n",
       "      <td>9.5</td>\n",
       "      <td>2008</td>\n",
       "      <td>2</td>\n",
       "      <td>3</td>\n",
       "    </tr>\n",
       "    <tr>\n",
       "      <th>30179</th>\n",
       "      <td>18.8</td>\n",
       "      <td>2.2</td>\n",
       "      <td>0.0</td>\n",
       "      <td>Yes</td>\n",
       "      <td>Yes</td>\n",
       "      <td>86.5</td>\n",
       "      <td>1013.00</td>\n",
       "      <td>8.0</td>\n",
       "      <td>21.15</td>\n",
       "      <td>21.0</td>\n",
       "      <td>2008</td>\n",
       "      <td>2</td>\n",
       "      <td>4</td>\n",
       "    </tr>\n",
       "    <tr>\n",
       "      <th>30180</th>\n",
       "      <td>77.4</td>\n",
       "      <td>NaN</td>\n",
       "      <td>0.0</td>\n",
       "      <td>Yes</td>\n",
       "      <td>Yes</td>\n",
       "      <td>81.0</td>\n",
       "      <td>1006.55</td>\n",
       "      <td>8.0</td>\n",
       "      <td>24.00</td>\n",
       "      <td>8.5</td>\n",
       "      <td>2008</td>\n",
       "      <td>2</td>\n",
       "      <td>5</td>\n",
       "    </tr>\n",
       "  </tbody>\n",
       "</table>\n",
       "</div>"
      ],
      "text/plain": [
       "       Rainfall  Evaporation  Sunshine RainToday RainTomorrow  Humidity  \\\n",
       "30176      15.6          6.2       0.0       Yes          Yes      88.0   \n",
       "30177       6.0          3.4       2.7       Yes          Yes      78.0   \n",
       "30178       6.6          2.4       0.1       Yes          Yes      87.0   \n",
       "30179      18.8          2.2       0.0       Yes          Yes      86.5   \n",
       "30180      77.4          NaN       0.0       Yes          Yes      81.0   \n",
       "\n",
       "       Pressure  Cloud   Temp  WindSpeed  Year  Month  Day  \n",
       "30176   1017.50    8.0  20.80       18.5  2008      2    1  \n",
       "30177   1017.15    7.0  23.60       11.0  2008      2    2  \n",
       "30178   1016.15    7.5  23.25        9.5  2008      2    3  \n",
       "30179   1013.00    8.0  21.15       21.0  2008      2    4  \n",
       "30180   1006.55    8.0  24.00        8.5  2008      2    5  "
      ]
     },
     "execution_count": 29,
     "metadata": {},
     "output_type": "execute_result"
    }
   ],
   "source": [
    "sdn.head()"
   ]
  },
  {
   "cell_type": "code",
   "execution_count": 30,
   "id": "future-avatar",
   "metadata": {},
   "outputs": [],
   "source": [
    "sdn['Evaporation'].fillna(value=sdn['Evaporation'].mode()[0],inplace=True )\n",
    "sdn['Rainfall'].fillna(value=sdn['Rainfall'].mode()[0],inplace=True )\n",
    "sdn['Sunshine'].fillna(value=sdn['Sunshine'].mode()[0],inplace=True )"
   ]
  },
  {
   "cell_type": "code",
   "execution_count": 31,
   "id": "legendary-buyer",
   "metadata": {},
   "outputs": [
    {
     "data": {
      "text/plain": [
       "Rainfall        0\n",
       "Evaporation     0\n",
       "Sunshine        0\n",
       "RainToday       0\n",
       "RainTomorrow    0\n",
       "Humidity        0\n",
       "Pressure        0\n",
       "Cloud           0\n",
       "Temp            0\n",
       "WindSpeed       0\n",
       "Year            0\n",
       "Month           0\n",
       "Day             0\n",
       "dtype: int64"
      ]
     },
     "execution_count": 31,
     "metadata": {},
     "output_type": "execute_result"
    }
   ],
   "source": [
    "sdn.isnull().sum()"
   ]
  },
  {
   "cell_type": "code",
   "execution_count": 32,
   "id": "first-withdrawal",
   "metadata": {},
   "outputs": [
    {
     "name": "stdout",
     "output_type": "stream",
     "text": [
      "<class 'pandas.core.frame.DataFrame'>\n",
      "Int64Index: 3344 entries, 30176 to 33519\n",
      "Data columns (total 13 columns):\n",
      " #   Column        Non-Null Count  Dtype  \n",
      "---  ------        --------------  -----  \n",
      " 0   Rainfall      3344 non-null   float64\n",
      " 1   Evaporation   3344 non-null   float64\n",
      " 2   Sunshine      3344 non-null   float64\n",
      " 3   RainToday     3344 non-null   object \n",
      " 4   RainTomorrow  3344 non-null   object \n",
      " 5   Humidity      3344 non-null   float64\n",
      " 6   Pressure      3344 non-null   float64\n",
      " 7   Cloud         3344 non-null   float64\n",
      " 8   Temp          3344 non-null   float64\n",
      " 9   WindSpeed     3344 non-null   float64\n",
      " 10  Year          3344 non-null   int64  \n",
      " 11  Month         3344 non-null   int64  \n",
      " 12  Day           3344 non-null   int64  \n",
      "dtypes: float64(8), int64(3), object(2)\n",
      "memory usage: 365.8+ KB\n"
     ]
    }
   ],
   "source": [
    "sdn.info()"
   ]
  },
  {
   "cell_type": "code",
   "execution_count": 33,
   "id": "heated-reconstruction",
   "metadata": {},
   "outputs": [],
   "source": [
    "sdn = pd.get_dummies(sdn,columns=['RainToday'], drop_first=True)"
   ]
  },
  {
   "cell_type": "code",
   "execution_count": 34,
   "id": "phantom-joyce",
   "metadata": {},
   "outputs": [],
   "source": [
    "sdn = pd.get_dummies(sdn,columns=['RainTomorrow'], drop_first=True)"
   ]
  },
  {
   "cell_type": "code",
   "execution_count": 35,
   "id": "mature-count",
   "metadata": {},
   "outputs": [
    {
     "data": {
      "text/html": [
       "<div>\n",
       "<style scoped>\n",
       "    .dataframe tbody tr th:only-of-type {\n",
       "        vertical-align: middle;\n",
       "    }\n",
       "\n",
       "    .dataframe tbody tr th {\n",
       "        vertical-align: top;\n",
       "    }\n",
       "\n",
       "    .dataframe thead th {\n",
       "        text-align: right;\n",
       "    }\n",
       "</style>\n",
       "<table border=\"1\" class=\"dataframe\">\n",
       "  <thead>\n",
       "    <tr style=\"text-align: right;\">\n",
       "      <th></th>\n",
       "      <th>Rainfall</th>\n",
       "      <th>Evaporation</th>\n",
       "      <th>Sunshine</th>\n",
       "      <th>Humidity</th>\n",
       "      <th>Pressure</th>\n",
       "      <th>Cloud</th>\n",
       "      <th>Temp</th>\n",
       "      <th>WindSpeed</th>\n",
       "      <th>Year</th>\n",
       "      <th>Month</th>\n",
       "      <th>Day</th>\n",
       "      <th>RainToday_Yes</th>\n",
       "      <th>RainTomorrow_Yes</th>\n",
       "    </tr>\n",
       "  </thead>\n",
       "  <tbody>\n",
       "    <tr>\n",
       "      <th>30176</th>\n",
       "      <td>15.6</td>\n",
       "      <td>6.2</td>\n",
       "      <td>0.0</td>\n",
       "      <td>88.0</td>\n",
       "      <td>1017.50</td>\n",
       "      <td>8.0</td>\n",
       "      <td>20.80</td>\n",
       "      <td>18.5</td>\n",
       "      <td>2008</td>\n",
       "      <td>2</td>\n",
       "      <td>1</td>\n",
       "      <td>1</td>\n",
       "      <td>1</td>\n",
       "    </tr>\n",
       "    <tr>\n",
       "      <th>30177</th>\n",
       "      <td>6.0</td>\n",
       "      <td>3.4</td>\n",
       "      <td>2.7</td>\n",
       "      <td>78.0</td>\n",
       "      <td>1017.15</td>\n",
       "      <td>7.0</td>\n",
       "      <td>23.60</td>\n",
       "      <td>11.0</td>\n",
       "      <td>2008</td>\n",
       "      <td>2</td>\n",
       "      <td>2</td>\n",
       "      <td>1</td>\n",
       "      <td>1</td>\n",
       "    </tr>\n",
       "    <tr>\n",
       "      <th>30178</th>\n",
       "      <td>6.6</td>\n",
       "      <td>2.4</td>\n",
       "      <td>0.1</td>\n",
       "      <td>87.0</td>\n",
       "      <td>1016.15</td>\n",
       "      <td>7.5</td>\n",
       "      <td>23.25</td>\n",
       "      <td>9.5</td>\n",
       "      <td>2008</td>\n",
       "      <td>2</td>\n",
       "      <td>3</td>\n",
       "      <td>1</td>\n",
       "      <td>1</td>\n",
       "    </tr>\n",
       "    <tr>\n",
       "      <th>30179</th>\n",
       "      <td>18.8</td>\n",
       "      <td>2.2</td>\n",
       "      <td>0.0</td>\n",
       "      <td>86.5</td>\n",
       "      <td>1013.00</td>\n",
       "      <td>8.0</td>\n",
       "      <td>21.15</td>\n",
       "      <td>21.0</td>\n",
       "      <td>2008</td>\n",
       "      <td>2</td>\n",
       "      <td>4</td>\n",
       "      <td>1</td>\n",
       "      <td>1</td>\n",
       "    </tr>\n",
       "    <tr>\n",
       "      <th>30180</th>\n",
       "      <td>77.4</td>\n",
       "      <td>4.0</td>\n",
       "      <td>0.0</td>\n",
       "      <td>81.0</td>\n",
       "      <td>1006.55</td>\n",
       "      <td>8.0</td>\n",
       "      <td>24.00</td>\n",
       "      <td>8.5</td>\n",
       "      <td>2008</td>\n",
       "      <td>2</td>\n",
       "      <td>5</td>\n",
       "      <td>1</td>\n",
       "      <td>1</td>\n",
       "    </tr>\n",
       "  </tbody>\n",
       "</table>\n",
       "</div>"
      ],
      "text/plain": [
       "       Rainfall  Evaporation  Sunshine  Humidity  Pressure  Cloud   Temp  \\\n",
       "30176      15.6          6.2       0.0      88.0   1017.50    8.0  20.80   \n",
       "30177       6.0          3.4       2.7      78.0   1017.15    7.0  23.60   \n",
       "30178       6.6          2.4       0.1      87.0   1016.15    7.5  23.25   \n",
       "30179      18.8          2.2       0.0      86.5   1013.00    8.0  21.15   \n",
       "30180      77.4          4.0       0.0      81.0   1006.55    8.0  24.00   \n",
       "\n",
       "       WindSpeed  Year  Month  Day  RainToday_Yes  RainTomorrow_Yes  \n",
       "30176       18.5  2008      2    1              1                 1  \n",
       "30177       11.0  2008      2    2              1                 1  \n",
       "30178        9.5  2008      2    3              1                 1  \n",
       "30179       21.0  2008      2    4              1                 1  \n",
       "30180        8.5  2008      2    5              1                 1  "
      ]
     },
     "execution_count": 35,
     "metadata": {},
     "output_type": "execute_result"
    }
   ],
   "source": [
    "sdn.head()"
   ]
  },
  {
   "cell_type": "code",
   "execution_count": 36,
   "id": "restricted-hayes",
   "metadata": {},
   "outputs": [
    {
     "name": "stdout",
     "output_type": "stream",
     "text": [
      "<class 'pandas.core.frame.DataFrame'>\n",
      "Int64Index: 3344 entries, 30176 to 33519\n",
      "Data columns (total 13 columns):\n",
      " #   Column            Non-Null Count  Dtype  \n",
      "---  ------            --------------  -----  \n",
      " 0   Rainfall          3344 non-null   float64\n",
      " 1   Evaporation       3344 non-null   float64\n",
      " 2   Sunshine          3344 non-null   float64\n",
      " 3   Humidity          3344 non-null   float64\n",
      " 4   Pressure          3344 non-null   float64\n",
      " 5   Cloud             3344 non-null   float64\n",
      " 6   Temp              3344 non-null   float64\n",
      " 7   WindSpeed         3344 non-null   float64\n",
      " 8   Year              3344 non-null   int64  \n",
      " 9   Month             3344 non-null   int64  \n",
      " 10  Day               3344 non-null   int64  \n",
      " 11  RainToday_Yes     3344 non-null   uint8  \n",
      " 12  RainTomorrow_Yes  3344 non-null   uint8  \n",
      "dtypes: float64(8), int64(3), uint8(2)\n",
      "memory usage: 320.0 KB\n"
     ]
    }
   ],
   "source": [
    "sdn.info()"
   ]
  },
  {
   "cell_type": "markdown",
   "id": "voluntary-cooperation",
   "metadata": {},
   "source": [
    "# 2. Data analytics\n",
    "\n",
    "after filtering the data, I want to see the connections between the features to the prediction"
   ]
  },
  {
   "cell_type": "code",
   "execution_count": 37,
   "id": "therapeutic-perfume",
   "metadata": {},
   "outputs": [
    {
     "data": {
      "text/plain": [
       "Text(0, 0.5, 'Rain Tomorrow')"
      ]
     },
     "execution_count": 37,
     "metadata": {},
     "output_type": "execute_result"
    },
    {
     "data": {
      "image/png": "[encoded data removed]",
      "text/plain": [
       "<Figure size 432x288 with 1 Axes>"
      ]
     },
     "metadata": {
      "needs_background": "light"
     },
     "output_type": "display_data"
    }
   ],
   "source": [
    "plt.scatter(x = sdn['Rainfall'], y = sdn['RainTomorrow_Yes'])\n",
    "plt.xlabel(\"Rainfall\")\n",
    "plt.ylabel(\"Rain Tomorrow\")"
   ]
  },
  {
   "cell_type": "code",
   "execution_count": 38,
   "id": "tribal-brave",
   "metadata": {},
   "outputs": [
    {
     "data": {
      "text/plain": [
       "Text(0, 0.5, 'Rain Tomorrow')"
      ]
     },
     "execution_count": 38,
     "metadata": {},
     "output_type": "execute_result"
    },
    {
     "data": {
      "image/png": "[encoded data removed]",
      "text/plain": [
       "<Figure size 432x288 with 1 Axes>"
      ]
     },
     "metadata": {
      "needs_background": "light"
     },
     "output_type": "display_data"
    }
   ],
   "source": [
    "plt.scatter(x = sdn['Evaporation'], y = sdn['RainTomorrow_Yes'])\n",
    "plt.xlabel(\"Evaporation\")\n",
    "plt.ylabel(\"Rain Tomorrow\")"
   ]
  },
  {
   "cell_type": "code",
   "execution_count": 39,
   "id": "nuclear-adapter",
   "metadata": {},
   "outputs": [
    {
     "data": {
      "text/plain": [
       "Text(0, 0.5, 'Rain Tomorrow')"
      ]
     },
     "execution_count": 39,
     "metadata": {},
     "output_type": "execute_result"
    },
    {
     "data": {
      "image/png": "[encoded data removed]",
      "text/plain": [
       "<Figure size 432x288 with 1 Axes>"
      ]
     },
     "metadata": {
      "needs_background": "light"
     },
     "output_type": "display_data"
    }
   ],
   "source": [
    "plt.scatter(x = sdn['Sunshine'], y = sdn['RainTomorrow_Yes'])\n",
    "plt.xlabel(\"Sunshine\")\n",
    "plt.ylabel(\"Rain Tomorrow\")"
   ]
  },
  {
   "cell_type": "code",
   "execution_count": 40,
   "id": "specialized-geography",
   "metadata": {},
   "outputs": [
    {
     "data": {
      "text/plain": [
       "Text(0, 0.5, 'Rain Tomorrow')"
      ]
     },
     "execution_count": 40,
     "metadata": {},
     "output_type": "execute_result"
    },
    {
     "data": {
      "image/png": "[encoded data removed]",
      "text/plain": [
       "<Figure size 432x288 with 1 Axes>"
      ]
     },
     "metadata": {
      "needs_background": "light"
     },
     "output_type": "display_data"
    }
   ],
   "source": [
    "plt.scatter(x = sdn['WindSpeed'], y = sdn['RainTomorrow_Yes'])\n",
    "plt.xlabel(\"WindSpeed\")\n",
    "plt.ylabel(\"Rain Tomorrow\")"
   ]
  },
  {
   "cell_type": "code",
   "execution_count": 41,
   "id": "educated-cover",
   "metadata": {},
   "outputs": [
    {
     "data": {
      "text/plain": [
       "Text(0, 0.5, 'Rain Tomorrow')"
      ]
     },
     "execution_count": 41,
     "metadata": {},
     "output_type": "execute_result"
    },
    {
     "data": {
      "image/png": "[encoded data removed]",
      "text/plain": [
       "<Figure size 432x288 with 1 Axes>"
      ]
     },
     "metadata": {
      "needs_background": "light"
     },
     "output_type": "display_data"
    }
   ],
   "source": [
    "plt.scatter(x = sdn['Humidity'], y = sdn['RainTomorrow_Yes'])\n",
    "plt.xlabel(\"Humidity\")\n",
    "plt.ylabel(\"Rain Tomorrow\")"
   ]
  },
  {
   "cell_type": "code",
   "execution_count": 42,
   "id": "fossil-cholesterol",
   "metadata": {},
   "outputs": [
    {
     "data": {
      "text/plain": [
       "Text(0, 0.5, 'Rain Tomorrow')"
      ]
     },
     "execution_count": 42,
     "metadata": {},
     "output_type": "execute_result"
    },
    {
     "data": {
      "image/png": "[encoded data removed]",
      "text/plain": [
       "<Figure size 432x288 with 1 Axes>"
      ]
     },
     "metadata": {
      "needs_background": "light"
     },
     "output_type": "display_data"
    }
   ],
   "source": [
    "plt.scatter(x = sdn['Pressure'], y = sdn['RainTomorrow_Yes'])\n",
    "plt.xlabel(\"Pressure\")\n",
    "plt.ylabel(\"Rain Tomorrow\")"
   ]
  },
  {
   "cell_type": "code",
   "execution_count": 43,
   "id": "western-garbage",
   "metadata": {},
   "outputs": [
    {
     "data": {
      "text/plain": [
       "Text(0, 0.5, 'Rain Tomorrow')"
      ]
     },
     "execution_count": 43,
     "metadata": {},
     "output_type": "execute_result"
    },
    {
     "data": {
      "image/png": "[encoded data removed]",
      "text/plain": [
       "<Figure size 432x288 with 1 Axes>"
      ]
     },
     "metadata": {
      "needs_background": "light"
     },
     "output_type": "display_data"
    }
   ],
   "source": [
    "plt.scatter(x = sdn['Cloud'], y = sdn['RainTomorrow_Yes'])\n",
    "plt.xlabel(\"Cloud\")\n",
    "plt.ylabel(\"Rain Tomorrow\")"
   ]
  },
  {
   "cell_type": "code",
   "execution_count": 44,
   "id": "close-guidance",
   "metadata": {},
   "outputs": [
    {
     "data": {
      "text/plain": [
       "Text(0, 0.5, 'Rain Tomorrow')"
      ]
     },
     "execution_count": 44,
     "metadata": {},
     "output_type": "execute_result"
    },
    {
     "data": {
      "image/png": "[encoded data removed]",
      "text/plain": [
       "<Figure size 432x288 with 1 Axes>"
      ]
     },
     "metadata": {
      "needs_background": "light"
     },
     "output_type": "display_data"
    }
   ],
   "source": [
    "plt.scatter(x = sdn['Temp'], y = sdn['RainTomorrow_Yes'])\n",
    "plt.xlabel(\"Temp\")\n",
    "plt.ylabel(\"Rain Tomorrow\")"
   ]
  },
  {
   "cell_type": "code",
   "execution_count": 45,
   "id": "valid-tenant",
   "metadata": {},
   "outputs": [
    {
     "data": {
      "text/plain": [
       "Text(0, 0.5, 'Rain Tomorrow')"
      ]
     },
     "execution_count": 45,
     "metadata": {},
     "output_type": "execute_result"
    },
    {
     "data": {
      "image/png": "[encoded data removed]",
      "text/plain": [
       "<Figure size 432x288 with 1 Axes>"
      ]
     },
     "metadata": {
      "needs_background": "light"
     },
     "output_type": "display_data"
    }
   ],
   "source": [
    "plt.scatter(x = sdn['RainToday_Yes'], y = sdn['RainTomorrow_Yes'])\n",
    "plt.xlabel(\"RainToday_Yes\")\n",
    "plt.ylabel(\"Rain Tomorrow\")"
   ]
  },
  {
   "cell_type": "code",
   "execution_count": 46,
   "id": "acceptable-express",
   "metadata": {},
   "outputs": [
    {
     "data": {
      "text/plain": [
       "0    2478\n",
       "1     866\n",
       "Name: RainToday_Yes, dtype: int64"
      ]
     },
     "execution_count": 46,
     "metadata": {},
     "output_type": "execute_result"
    }
   ],
   "source": [
    "sdn.RainToday_Yes.value_counts()"
   ]
  },
  {
   "cell_type": "code",
   "execution_count": 47,
   "id": "passive-documentation",
   "metadata": {},
   "outputs": [
    {
     "data": {
      "text/plain": [
       "0    2056\n",
       "1     422\n",
       "Name: RainTomorrow_Yes, dtype: int64"
      ]
     },
     "execution_count": 47,
     "metadata": {},
     "output_type": "execute_result"
    }
   ],
   "source": [
    "sdn[sdn.RainToday_Yes == 0].RainTomorrow_Yes.value_counts()"
   ]
  },
  {
   "cell_type": "code",
   "execution_count": 48,
   "id": "loose-metabolism",
   "metadata": {},
   "outputs": [
    {
     "data": {
      "text/plain": [
       "1    443\n",
       "0    423\n",
       "Name: RainTomorrow_Yes, dtype: int64"
      ]
     },
     "execution_count": 48,
     "metadata": {},
     "output_type": "execute_result"
    }
   ],
   "source": [
    "sdn[sdn.RainToday_Yes == 1].RainTomorrow_Yes.value_counts()"
   ]
  },
  {
   "cell_type": "code",
   "execution_count": 49,
   "id": "experimental-waterproof",
   "metadata": {},
   "outputs": [
    {
     "data": {
      "text/plain": [
       "Rainfall            0.293934\n",
       "Evaporation        -0.069448\n",
       "Sunshine           -0.517219\n",
       "Humidity            0.442175\n",
       "Pressure           -0.010377\n",
       "Cloud               0.411039\n",
       "Temp               -0.092685\n",
       "WindSpeed           0.034688\n",
       "Year                0.001924\n",
       "Month              -0.049176\n",
       "Day                -0.021059\n",
       "RainToday_Yes       0.341377\n",
       "RainTomorrow_Yes    1.000000\n",
       "Name: RainTomorrow_Yes, dtype: float64"
      ]
     },
     "execution_count": 49,
     "metadata": {},
     "output_type": "execute_result"
    }
   ],
   "source": [
    "corr_matrix = sdn.corr()\n",
    "corr_matrix.RainTomorrow_Yes"
   ]
  },
  {
   "cell_type": "code",
   "execution_count": 50,
   "id": "present-comfort",
   "metadata": {},
   "outputs": [
    {
     "data": {
      "text/plain": [
       "0.0     199\n",
       "9.8      72\n",
       "10.2     65\n",
       "9.7      63\n",
       "10.1     62\n",
       "       ... \n",
       "13.2      6\n",
       "13.4      4\n",
       "13.3      4\n",
       "13.5      2\n",
       "13.6      1\n",
       "Name: Sunshine, Length: 137, dtype: int64"
      ]
     },
     "execution_count": 50,
     "metadata": {},
     "output_type": "execute_result"
    }
   ],
   "source": [
    "sdn.Sunshine.value_counts()"
   ]
  },
  {
   "cell_type": "code",
   "execution_count": 51,
   "id": "conservative-tutorial",
   "metadata": {},
   "outputs": [
    {
     "data": {
      "text/plain": [
       "1    149\n",
       "0     50\n",
       "Name: RainTomorrow_Yes, dtype: int64"
      ]
     },
     "execution_count": 51,
     "metadata": {},
     "output_type": "execute_result"
    }
   ],
   "source": [
    "sdn[sdn.Sunshine == 0].RainTomorrow_Yes.value_counts()"
   ]
  },
  {
   "cell_type": "code",
   "execution_count": 52,
   "id": "expanded-mounting",
   "metadata": {},
   "outputs": [
    {
     "data": {
      "text/plain": [
       "0    52\n",
       "1     3\n",
       "Name: RainTomorrow_Yes, dtype: int64"
      ]
     },
     "execution_count": 52,
     "metadata": {},
     "output_type": "execute_result"
    }
   ],
   "source": [
    "sdn[sdn.Sunshine == 10].RainTomorrow_Yes.value_counts()"
   ]
  },
  {
   "cell_type": "markdown",
   "id": "french-chassis",
   "metadata": {},
   "source": [
    "# 3. Model training\n",
    "\n",
    "## 3.1 KNN"
   ]
  },
  {
   "cell_type": "code",
   "execution_count": 53,
   "id": "posted-texas",
   "metadata": {},
   "outputs": [],
   "source": [
    "from sklearn.neighbors import KNeighborsClassifier\n",
    "from sklearn.preprocessing import MinMaxScaler\n",
    "from sklearn.model_selection import train_test_split"
   ]
  },
  {
   "cell_type": "code",
   "execution_count": 54,
   "id": "foster-milton",
   "metadata": {},
   "outputs": [],
   "source": [
    "X = sdn.drop(['RainTomorrow_Yes'], axis=1)\n",
    "y = sdn['RainTomorrow_Yes']"
   ]
  },
  {
   "cell_type": "code",
   "execution_count": 55,
   "id": "coordinated-knife",
   "metadata": {},
   "outputs": [],
   "source": [
    "scaler = MinMaxScaler()\n",
    "X = scaler.fit_transform(X)"
   ]
  },
  {
   "cell_type": "code",
   "execution_count": 56,
   "id": "twelve-uniform",
   "metadata": {},
   "outputs": [
    {
     "data": {
      "text/html": [
       "<div>\n",
       "<style scoped>\n",
       "    .dataframe tbody tr th:only-of-type {\n",
       "        vertical-align: middle;\n",
       "    }\n",
       "\n",
       "    .dataframe tbody tr th {\n",
       "        vertical-align: top;\n",
       "    }\n",
       "\n",
       "    .dataframe thead tr th {\n",
       "        text-align: left;\n",
       "    }\n",
       "</style>\n",
       "<table border=\"1\" class=\"dataframe\">\n",
       "  <thead>\n",
       "    <tr>\n",
       "      <th></th>\n",
       "      <th>Rainfall</th>\n",
       "      <th>Evaporation</th>\n",
       "      <th>Sunshine</th>\n",
       "      <th>Humidity</th>\n",
       "      <th>Pressure</th>\n",
       "      <th>Cloud</th>\n",
       "      <th>Temp</th>\n",
       "      <th>WindSpeed</th>\n",
       "      <th>Year</th>\n",
       "      <th>Month</th>\n",
       "      <th>Day</th>\n",
       "      <th>RainToday_Yes</th>\n",
       "    </tr>\n",
       "  </thead>\n",
       "  <tbody>\n",
       "    <tr>\n",
       "      <th>0</th>\n",
       "      <td>0.130653</td>\n",
       "      <td>0.336957</td>\n",
       "      <td>0.000000</td>\n",
       "      <td>0.900621</td>\n",
       "      <td>0.590113</td>\n",
       "      <td>1.0000</td>\n",
       "      <td>0.410714</td>\n",
       "      <td>0.37</td>\n",
       "      <td>0.0</td>\n",
       "      <td>0.090909</td>\n",
       "      <td>0.000000</td>\n",
       "      <td>1.0</td>\n",
       "    </tr>\n",
       "    <tr>\n",
       "      <th>1</th>\n",
       "      <td>0.050251</td>\n",
       "      <td>0.184783</td>\n",
       "      <td>0.198529</td>\n",
       "      <td>0.776398</td>\n",
       "      <td>0.582904</td>\n",
       "      <td>0.8750</td>\n",
       "      <td>0.510714</td>\n",
       "      <td>0.22</td>\n",
       "      <td>0.0</td>\n",
       "      <td>0.090909</td>\n",
       "      <td>0.033333</td>\n",
       "      <td>1.0</td>\n",
       "    </tr>\n",
       "    <tr>\n",
       "      <th>2</th>\n",
       "      <td>0.055276</td>\n",
       "      <td>0.130435</td>\n",
       "      <td>0.007353</td>\n",
       "      <td>0.888199</td>\n",
       "      <td>0.562307</td>\n",
       "      <td>0.9375</td>\n",
       "      <td>0.498214</td>\n",
       "      <td>0.19</td>\n",
       "      <td>0.0</td>\n",
       "      <td>0.090909</td>\n",
       "      <td>0.066667</td>\n",
       "      <td>1.0</td>\n",
       "    </tr>\n",
       "    <tr>\n",
       "      <th>3</th>\n",
       "      <td>0.157454</td>\n",
       "      <td>0.119565</td>\n",
       "      <td>0.000000</td>\n",
       "      <td>0.881988</td>\n",
       "      <td>0.497425</td>\n",
       "      <td>1.0000</td>\n",
       "      <td>0.423214</td>\n",
       "      <td>0.42</td>\n",
       "      <td>0.0</td>\n",
       "      <td>0.090909</td>\n",
       "      <td>0.100000</td>\n",
       "      <td>1.0</td>\n",
       "    </tr>\n",
       "    <tr>\n",
       "      <th>4</th>\n",
       "      <td>0.648241</td>\n",
       "      <td>0.217391</td>\n",
       "      <td>0.000000</td>\n",
       "      <td>0.813665</td>\n",
       "      <td>0.364573</td>\n",
       "      <td>1.0000</td>\n",
       "      <td>0.525000</td>\n",
       "      <td>0.17</td>\n",
       "      <td>0.0</td>\n",
       "      <td>0.090909</td>\n",
       "      <td>0.133333</td>\n",
       "      <td>1.0</td>\n",
       "    </tr>\n",
       "    <tr>\n",
       "      <th>...</th>\n",
       "      <td>...</td>\n",
       "      <td>...</td>\n",
       "      <td>...</td>\n",
       "      <td>...</td>\n",
       "      <td>...</td>\n",
       "      <td>...</td>\n",
       "      <td>...</td>\n",
       "      <td>...</td>\n",
       "      <td>...</td>\n",
       "      <td>...</td>\n",
       "      <td>...</td>\n",
       "      <td>...</td>\n",
       "    </tr>\n",
       "    <tr>\n",
       "      <th>3339</th>\n",
       "      <td>0.000000</td>\n",
       "      <td>0.108696</td>\n",
       "      <td>0.573529</td>\n",
       "      <td>0.583851</td>\n",
       "      <td>0.756952</td>\n",
       "      <td>0.2500</td>\n",
       "      <td>0.175000</td>\n",
       "      <td>0.42</td>\n",
       "      <td>1.0</td>\n",
       "      <td>0.454545</td>\n",
       "      <td>0.666667</td>\n",
       "      <td>0.0</td>\n",
       "    </tr>\n",
       "    <tr>\n",
       "      <th>3340</th>\n",
       "      <td>0.000000</td>\n",
       "      <td>0.108696</td>\n",
       "      <td>0.676471</td>\n",
       "      <td>0.621118</td>\n",
       "      <td>0.776519</td>\n",
       "      <td>0.2500</td>\n",
       "      <td>0.198214</td>\n",
       "      <td>0.27</td>\n",
       "      <td>1.0</td>\n",
       "      <td>0.454545</td>\n",
       "      <td>0.700000</td>\n",
       "      <td>0.0</td>\n",
       "    </tr>\n",
       "    <tr>\n",
       "      <th>3341</th>\n",
       "      <td>0.000000</td>\n",
       "      <td>0.130435</td>\n",
       "      <td>0.198529</td>\n",
       "      <td>0.683230</td>\n",
       "      <td>0.598352</td>\n",
       "      <td>0.7500</td>\n",
       "      <td>0.158929</td>\n",
       "      <td>0.28</td>\n",
       "      <td>1.0</td>\n",
       "      <td>0.454545</td>\n",
       "      <td>0.733333</td>\n",
       "      <td>0.0</td>\n",
       "    </tr>\n",
       "    <tr>\n",
       "      <th>3342</th>\n",
       "      <td>0.000000</td>\n",
       "      <td>0.076087</td>\n",
       "      <td>0.683824</td>\n",
       "      <td>0.372671</td>\n",
       "      <td>0.563337</td>\n",
       "      <td>0.4375</td>\n",
       "      <td>0.228571</td>\n",
       "      <td>0.36</td>\n",
       "      <td>1.0</td>\n",
       "      <td>0.454545</td>\n",
       "      <td>0.766667</td>\n",
       "      <td>0.0</td>\n",
       "    </tr>\n",
       "    <tr>\n",
       "      <th>3343</th>\n",
       "      <td>0.000000</td>\n",
       "      <td>0.184783</td>\n",
       "      <td>0.691176</td>\n",
       "      <td>0.459627</td>\n",
       "      <td>0.579815</td>\n",
       "      <td>0.1250</td>\n",
       "      <td>0.171429</td>\n",
       "      <td>0.26</td>\n",
       "      <td>1.0</td>\n",
       "      <td>0.454545</td>\n",
       "      <td>0.800000</td>\n",
       "      <td>0.0</td>\n",
       "    </tr>\n",
       "  </tbody>\n",
       "</table>\n",
       "<p>3344 rows × 12 columns</p>\n",
       "</div>"
      ],
      "text/plain": [
       "      Rainfall Evaporation  Sunshine  Humidity  Pressure   Cloud      Temp  \\\n",
       "0     0.130653    0.336957  0.000000  0.900621  0.590113  1.0000  0.410714   \n",
       "1     0.050251    0.184783  0.198529  0.776398  0.582904  0.8750  0.510714   \n",
       "2     0.055276    0.130435  0.007353  0.888199  0.562307  0.9375  0.498214   \n",
       "3     0.157454    0.119565  0.000000  0.881988  0.497425  1.0000  0.423214   \n",
       "4     0.648241    0.217391  0.000000  0.813665  0.364573  1.0000  0.525000   \n",
       "...        ...         ...       ...       ...       ...     ...       ...   \n",
       "3339  0.000000    0.108696  0.573529  0.583851  0.756952  0.2500  0.175000   \n",
       "3340  0.000000    0.108696  0.676471  0.621118  0.776519  0.2500  0.198214   \n",
       "3341  0.000000    0.130435  0.198529  0.683230  0.598352  0.7500  0.158929   \n",
       "3342  0.000000    0.076087  0.683824  0.372671  0.563337  0.4375  0.228571   \n",
       "3343  0.000000    0.184783  0.691176  0.459627  0.579815  0.1250  0.171429   \n",
       "\n",
       "     WindSpeed Year     Month       Day RainToday_Yes  \n",
       "0         0.37  0.0  0.090909  0.000000           1.0  \n",
       "1         0.22  0.0  0.090909  0.033333           1.0  \n",
       "2         0.19  0.0  0.090909  0.066667           1.0  \n",
       "3         0.42  0.0  0.090909  0.100000           1.0  \n",
       "4         0.17  0.0  0.090909  0.133333           1.0  \n",
       "...        ...  ...       ...       ...           ...  \n",
       "3339      0.42  1.0  0.454545  0.666667           0.0  \n",
       "3340      0.27  1.0  0.454545  0.700000           0.0  \n",
       "3341      0.28  1.0  0.454545  0.733333           0.0  \n",
       "3342      0.36  1.0  0.454545  0.766667           0.0  \n",
       "3343      0.26  1.0  0.454545  0.800000           0.0  \n",
       "\n",
       "[3344 rows x 12 columns]"
      ]
     },
     "execution_count": 56,
     "metadata": {},
     "output_type": "execute_result"
    }
   ],
   "source": [
    "cols = sdn.columns\n",
    "X = pd.DataFrame(X, columns=[cols[:-1]])\n",
    "X"
   ]
  },
  {
   "cell_type": "code",
   "execution_count": 57,
   "id": "equal-sculpture",
   "metadata": {},
   "outputs": [],
   "source": [
    "X_train, X_test, y_train, y_test = train_test_split(X, y, test_size = 0.2, random_state = 2)"
   ]
  },
  {
   "cell_type": "code",
   "execution_count": 58,
   "id": "artificial-voluntary",
   "metadata": {},
   "outputs": [
    {
     "name": "stdout",
     "output_type": "stream",
     "text": [
      "best K results was with k=28 and the accuracy was 0.8251121076233184\n"
     ]
    },
    {
     "data": {
      "text/plain": [
       "Text(0, 0.5, 'Accuracy score')"
      ]
     },
     "execution_count": 58,
     "metadata": {},
     "output_type": "execute_result"
    },
    {
     "data": {
      "image/png": "[encoded data removed]",
      "text/plain": [
       "<Figure size 432x288 with 1 Axes>"
      ]
     },
     "metadata": {
      "needs_background": "light"
     },
     "output_type": "display_data"
    }
   ],
   "source": [
    "from sklearn.metrics import accuracy_score\n",
    "\n",
    "k_range = range(1,70)\n",
    "scores = []\n",
    "for k in k_range:\n",
    "    knn = KNeighborsClassifier(n_neighbors=k)\n",
    "    knn.fit(X_train,y_train)\n",
    "    y_pred=knn.predict(X_test)\n",
    "#     print('{0:0.4f}'.format(accuracy_score(y_test, y_pred)))\n",
    "    scores.append(accuracy_score(y_test, y_pred))\n",
    "\n",
    "print(\"best K results was with k={} and the accuracy was {}\".format(scores.index(max(scores)), max(scores)))\n",
    "plt.plot(k_range,scores)\n",
    "plt.xlabel(\"K value\")\n",
    "plt.ylabel(\"Accuracy score\")"
   ]
  },
  {
   "cell_type": "markdown",
   "id": "manual-bronze",
   "metadata": {},
   "source": [
    "#### With K = 28 we received the best accuracy of 0.82511"
   ]
  },
  {
   "cell_type": "markdown",
   "id": "fitting-touch",
   "metadata": {},
   "source": [
    "## 3.2 Logistic Regression"
   ]
  },
  {
   "cell_type": "code",
   "execution_count": 59,
   "id": "antique-astronomy",
   "metadata": {},
   "outputs": [],
   "source": [
    "from sklearn.linear_model import LogisticRegression"
   ]
  },
  {
   "cell_type": "code",
   "execution_count": 60,
   "id": "ordered-mount",
   "metadata": {},
   "outputs": [
    {
     "name": "stdout",
     "output_type": "stream",
     "text": [
      "Model accuracy score: 0.8296\n"
     ]
    }
   ],
   "source": [
    "logreg = LogisticRegression()\n",
    "logreg.fit(X_train, y_train)\n",
    "y_pred = logreg.predict(X_test)\n",
    "print('Model accuracy score: {0:0.4f}'. format(accuracy_score(y_test, y_pred)))"
   ]
  },
  {
   "cell_type": "markdown",
   "id": "baking-tuner",
   "metadata": {},
   "source": [
    "### We can see that the accuracy of logistic regression is 0.8281 when the best accuracy with KNN we get is 0.8251 "
   ]
  },
  {
   "cell_type": "code",
   "execution_count": 61,
   "id": "studied-characterization",
   "metadata": {},
   "outputs": [
    {
     "data": {
      "text/plain": [
       "array([[454,  22],\n",
       "       [ 92, 101]], dtype=int64)"
      ]
     },
     "execution_count": 61,
     "metadata": {},
     "output_type": "execute_result"
    }
   ],
   "source": [
    "from sklearn.metrics import confusion_matrix\n",
    "\n",
    "confusion_matrix(y_test, y_pred)"
   ]
  },
  {
   "cell_type": "code",
   "execution_count": 62,
   "id": "hydraulic-monthly",
   "metadata": {},
   "outputs": [
    {
     "data": {
      "text/plain": [
       "array([[0.59085699, 0.40914301],\n",
       "       [0.16889432, 0.83110568],\n",
       "       [0.85572113, 0.14427887],\n",
       "       ...,\n",
       "       [0.9564092 , 0.0435908 ],\n",
       "       [0.41226695, 0.58773305],\n",
       "       [0.2974123 , 0.7025877 ]])"
      ]
     },
     "execution_count": 62,
     "metadata": {},
     "output_type": "execute_result"
    }
   ],
   "source": [
    "from sklearn.metrics import roc_auc_score\n",
    "from sklearn.metrics import roc_curve\n",
    "\n",
    "roc_auc = roc_auc_score(y_test, y_pred)\n",
    "fpr, tpr ,trh =roc_curve(y_test, logreg.predict_proba(X_test)[:,1])\n",
    "logreg.predict_proba(X_test)"
   ]
  },
  {
   "cell_type": "code",
   "execution_count": 63,
   "id": "american-speech",
   "metadata": {},
   "outputs": [
    {
     "data": {
      "text/plain": [
       "<matplotlib.legend.Legend at 0x1bfbab05670>"
      ]
     },
     "execution_count": 63,
     "metadata": {},
     "output_type": "execute_result"
    },
    {
     "data": {
      "image/png": "[encoded data removed]",
      "text/plain": [
       "<Figure size 360x360 with 1 Axes>"
      ]
     },
     "metadata": {
      "needs_background": "light"
     },
     "output_type": "display_data"
    }
   ],
   "source": [
    "plt.figure(figsize=(5,5))\n",
    "plt.plot(fpr,tpr, label=\"Logistic regression acur {0:0.4f}\".format(roc_auc))\n",
    "plt.xlabel('FPR')\n",
    "plt.ylabel('TPR')\n",
    "plt.legend()"
   ]
  },
  {
   "cell_type": "code",
   "execution_count": 64,
   "id": "considerable-married",
   "metadata": {},
   "outputs": [
    {
     "data": {
      "text/plain": [
       "MultiIndex([(     'Rainfall',),\n",
       "            (  'Evaporation',),\n",
       "            (     'Sunshine',),\n",
       "            (     'Humidity',),\n",
       "            (     'Pressure',),\n",
       "            (        'Cloud',),\n",
       "            (         'Temp',),\n",
       "            (    'WindSpeed',),\n",
       "            (         'Year',),\n",
       "            (        'Month',),\n",
       "            (          'Day',),\n",
       "            ('RainToday_Yes',)],\n",
       "           )"
      ]
     },
     "execution_count": 64,
     "metadata": {},
     "output_type": "execute_result"
    }
   ],
   "source": [
    "X_train.columns"
   ]
  },
  {
   "cell_type": "markdown",
   "id": "center-remove",
   "metadata": {},
   "source": [
    "# Summary: \n",
    "\n",
    "* With KNN : 0.8251 \n",
    "* With Logistic Reg: 0.8281\n",
    "* There have been manipulations on the data - some features was removed manually. \n",
    "* The prediction was only on one city - Sydney.\n"
   ]
  },
  {
   "cell_type": "markdown",
   "id": "minimal-bangkok",
   "metadata": {},
   "source": [
    "# Semester B imporvments"
   ]
  },
  {
   "cell_type": "code",
   "execution_count": 2,
   "id": "mysterious-affair",
   "metadata": {},
   "outputs": [
    {
     "data": {
      "text/html": [
       "<div>\n",
       "<style scoped>\n",
       "    .dataframe tbody tr th:only-of-type {\n",
       "        vertical-align: middle;\n",
       "    }\n",
       "\n",
       "    .dataframe tbody tr th {\n",
       "        vertical-align: top;\n",
       "    }\n",
       "\n",
       "    .dataframe thead th {\n",
       "        text-align: right;\n",
       "    }\n",
       "</style>\n",
       "<table border=\"1\" class=\"dataframe\">\n",
       "  <thead>\n",
       "    <tr style=\"text-align: right;\">\n",
       "      <th></th>\n",
       "      <th>Date</th>\n",
       "      <th>Location</th>\n",
       "      <th>MinTemp</th>\n",
       "      <th>MaxTemp</th>\n",
       "      <th>Rainfall</th>\n",
       "      <th>Evaporation</th>\n",
       "      <th>Sunshine</th>\n",
       "      <th>WindGustDir</th>\n",
       "      <th>WindGustSpeed</th>\n",
       "      <th>WindDir9am</th>\n",
       "      <th>...</th>\n",
       "      <th>Humidity9am</th>\n",
       "      <th>Humidity3pm</th>\n",
       "      <th>Pressure9am</th>\n",
       "      <th>Pressure3pm</th>\n",
       "      <th>Cloud9am</th>\n",
       "      <th>Cloud3pm</th>\n",
       "      <th>Temp9am</th>\n",
       "      <th>Temp3pm</th>\n",
       "      <th>RainToday</th>\n",
       "      <th>RainTomorrow</th>\n",
       "    </tr>\n",
       "  </thead>\n",
       "  <tbody>\n",
       "    <tr>\n",
       "      <th>0</th>\n",
       "      <td>2008-12-01</td>\n",
       "      <td>Albury</td>\n",
       "      <td>13.4</td>\n",
       "      <td>22.9</td>\n",
       "      <td>0.6</td>\n",
       "      <td>NaN</td>\n",
       "      <td>NaN</td>\n",
       "      <td>W</td>\n",
       "      <td>44.0</td>\n",
       "      <td>W</td>\n",
       "      <td>...</td>\n",
       "      <td>71.0</td>\n",
       "      <td>22.0</td>\n",
       "      <td>1007.7</td>\n",
       "      <td>1007.1</td>\n",
       "      <td>8.0</td>\n",
       "      <td>NaN</td>\n",
       "      <td>16.9</td>\n",
       "      <td>21.8</td>\n",
       "      <td>No</td>\n",
       "      <td>No</td>\n",
       "    </tr>\n",
       "    <tr>\n",
       "      <th>1</th>\n",
       "      <td>2008-12-02</td>\n",
       "      <td>Albury</td>\n",
       "      <td>7.4</td>\n",
       "      <td>25.1</td>\n",
       "      <td>0.0</td>\n",
       "      <td>NaN</td>\n",
       "      <td>NaN</td>\n",
       "      <td>WNW</td>\n",
       "      <td>44.0</td>\n",
       "      <td>NNW</td>\n",
       "      <td>...</td>\n",
       "      <td>44.0</td>\n",
       "      <td>25.0</td>\n",
       "      <td>1010.6</td>\n",
       "      <td>1007.8</td>\n",
       "      <td>NaN</td>\n",
       "      <td>NaN</td>\n",
       "      <td>17.2</td>\n",
       "      <td>24.3</td>\n",
       "      <td>No</td>\n",
       "      <td>No</td>\n",
       "    </tr>\n",
       "    <tr>\n",
       "      <th>2</th>\n",
       "      <td>2008-12-03</td>\n",
       "      <td>Albury</td>\n",
       "      <td>12.9</td>\n",
       "      <td>25.7</td>\n",
       "      <td>0.0</td>\n",
       "      <td>NaN</td>\n",
       "      <td>NaN</td>\n",
       "      <td>WSW</td>\n",
       "      <td>46.0</td>\n",
       "      <td>W</td>\n",
       "      <td>...</td>\n",
       "      <td>38.0</td>\n",
       "      <td>30.0</td>\n",
       "      <td>1007.6</td>\n",
       "      <td>1008.7</td>\n",
       "      <td>NaN</td>\n",
       "      <td>2.0</td>\n",
       "      <td>21.0</td>\n",
       "      <td>23.2</td>\n",
       "      <td>No</td>\n",
       "      <td>No</td>\n",
       "    </tr>\n",
       "    <tr>\n",
       "      <th>3</th>\n",
       "      <td>2008-12-04</td>\n",
       "      <td>Albury</td>\n",
       "      <td>9.2</td>\n",
       "      <td>28.0</td>\n",
       "      <td>0.0</td>\n",
       "      <td>NaN</td>\n",
       "      <td>NaN</td>\n",
       "      <td>NE</td>\n",
       "      <td>24.0</td>\n",
       "      <td>SE</td>\n",
       "      <td>...</td>\n",
       "      <td>45.0</td>\n",
       "      <td>16.0</td>\n",
       "      <td>1017.6</td>\n",
       "      <td>1012.8</td>\n",
       "      <td>NaN</td>\n",
       "      <td>NaN</td>\n",
       "      <td>18.1</td>\n",
       "      <td>26.5</td>\n",
       "      <td>No</td>\n",
       "      <td>No</td>\n",
       "    </tr>\n",
       "    <tr>\n",
       "      <th>4</th>\n",
       "      <td>2008-12-05</td>\n",
       "      <td>Albury</td>\n",
       "      <td>17.5</td>\n",
       "      <td>32.3</td>\n",
       "      <td>1.0</td>\n",
       "      <td>NaN</td>\n",
       "      <td>NaN</td>\n",
       "      <td>W</td>\n",
       "      <td>41.0</td>\n",
       "      <td>ENE</td>\n",
       "      <td>...</td>\n",
       "      <td>82.0</td>\n",
       "      <td>33.0</td>\n",
       "      <td>1010.8</td>\n",
       "      <td>1006.0</td>\n",
       "      <td>7.0</td>\n",
       "      <td>8.0</td>\n",
       "      <td>17.8</td>\n",
       "      <td>29.7</td>\n",
       "      <td>No</td>\n",
       "      <td>No</td>\n",
       "    </tr>\n",
       "  </tbody>\n",
       "</table>\n",
       "<p>5 rows × 23 columns</p>\n",
       "</div>"
      ],
      "text/plain": [
       "         Date Location  MinTemp  MaxTemp  Rainfall  Evaporation  Sunshine  \\\n",
       "0  2008-12-01   Albury     13.4     22.9       0.6          NaN       NaN   \n",
       "1  2008-12-02   Albury      7.4     25.1       0.0          NaN       NaN   \n",
       "2  2008-12-03   Albury     12.9     25.7       0.0          NaN       NaN   \n",
       "3  2008-12-04   Albury      9.2     28.0       0.0          NaN       NaN   \n",
       "4  2008-12-05   Albury     17.5     32.3       1.0          NaN       NaN   \n",
       "\n",
       "  WindGustDir  WindGustSpeed WindDir9am  ... Humidity9am  Humidity3pm  \\\n",
       "0           W           44.0          W  ...        71.0         22.0   \n",
       "1         WNW           44.0        NNW  ...        44.0         25.0   \n",
       "2         WSW           46.0          W  ...        38.0         30.0   \n",
       "3          NE           24.0         SE  ...        45.0         16.0   \n",
       "4           W           41.0        ENE  ...        82.0         33.0   \n",
       "\n",
       "   Pressure9am  Pressure3pm  Cloud9am  Cloud3pm  Temp9am  Temp3pm  RainToday  \\\n",
       "0       1007.7       1007.1       8.0       NaN     16.9     21.8         No   \n",
       "1       1010.6       1007.8       NaN       NaN     17.2     24.3         No   \n",
       "2       1007.6       1008.7       NaN       2.0     21.0     23.2         No   \n",
       "3       1017.6       1012.8       NaN       NaN     18.1     26.5         No   \n",
       "4       1010.8       1006.0       7.0       8.0     17.8     29.7         No   \n",
       "\n",
       "   RainTomorrow  \n",
       "0            No  \n",
       "1            No  \n",
       "2            No  \n",
       "3            No  \n",
       "4            No  \n",
       "\n",
       "[5 rows x 23 columns]"
      ]
     },
     "execution_count": 2,
     "metadata": {},
     "output_type": "execute_result"
    }
   ],
   "source": [
    "import pandas as pd\n",
    "import matplotlib.pyplot as plt\n",
    "%matplotlib inline\n",
    "df = pd.read_csv('weatherAUS.csv')\n",
    "df.head()"
   ]
  },
  {
   "cell_type": "code",
   "execution_count": 3,
   "id": "nominated-contributor",
   "metadata": {},
   "outputs": [],
   "source": [
    "df = df.drop_duplicates()\n",
    "df = df.dropna()"
   ]
  },
  {
   "cell_type": "code",
   "execution_count": 4,
   "id": "offensive-engagement",
   "metadata": {},
   "outputs": [
    {
     "data": {
      "text/plain": [
       "(56420, 22)"
      ]
     },
     "execution_count": 4,
     "metadata": {},
     "output_type": "execute_result"
    }
   ],
   "source": [
    "data= df.drop(['RainTomorrow'],axis = 1)\n",
    "data.shape"
   ]
  },
  {
   "cell_type": "code",
   "execution_count": 8,
   "id": "improved-insertion",
   "metadata": {},
   "outputs": [
    {
     "data": {
      "text/plain": [
       "6049      No\n",
       "6050      No\n",
       "6052      No\n",
       "6053      No\n",
       "6054      No\n",
       "          ..\n",
       "142298    No\n",
       "142299    No\n",
       "142300    No\n",
       "142301    No\n",
       "142302    No\n",
       "Name: RainTomorrow, Length: 56420, dtype: object"
      ]
     },
     "execution_count": 8,
     "metadata": {},
     "output_type": "execute_result"
    }
   ],
   "source": [
    "label = df['RainTomorrow']\n",
    "label"
   ]
  },
  {
   "cell_type": "code",
   "execution_count": 9,
   "id": "excess-prevention",
   "metadata": {},
   "outputs": [
    {
     "name": "stdout",
     "output_type": "stream",
     "text": [
      "<class 'pandas.core.frame.DataFrame'>\n",
      "Int64Index: 56420 entries, 6049 to 142302\n",
      "Data columns (total 22 columns):\n",
      " #   Column         Non-Null Count  Dtype         \n",
      "---  ------         --------------  -----         \n",
      " 0   Date           56420 non-null  datetime64[ns]\n",
      " 1   Location       56420 non-null  object        \n",
      " 2   MinTemp        56420 non-null  float64       \n",
      " 3   MaxTemp        56420 non-null  float64       \n",
      " 4   Rainfall       56420 non-null  float64       \n",
      " 5   Evaporation    56420 non-null  float64       \n",
      " 6   Sunshine       56420 non-null  float64       \n",
      " 7   WindGustDir    56420 non-null  object        \n",
      " 8   WindGustSpeed  56420 non-null  float64       \n",
      " 9   WindDir9am     56420 non-null  object        \n",
      " 10  WindDir3pm     56420 non-null  object        \n",
      " 11  WindSpeed9am   56420 non-null  float64       \n",
      " 12  WindSpeed3pm   56420 non-null  float64       \n",
      " 13  Humidity9am    56420 non-null  float64       \n",
      " 14  Humidity3pm    56420 non-null  float64       \n",
      " 15  Pressure9am    56420 non-null  float64       \n",
      " 16  Pressure3pm    56420 non-null  float64       \n",
      " 17  Cloud9am       56420 non-null  float64       \n",
      " 18  Cloud3pm       56420 non-null  float64       \n",
      " 19  Temp9am        56420 non-null  float64       \n",
      " 20  Temp3pm        56420 non-null  float64       \n",
      " 21  RainToday      56420 non-null  object        \n",
      "dtypes: datetime64[ns](1), float64(16), object(5)\n",
      "memory usage: 9.9+ MB\n"
     ]
    }
   ],
   "source": [
    "data.info()"
   ]
  },
  {
   "cell_type": "code",
   "execution_count": 11,
   "id": "hired-china",
   "metadata": {},
   "outputs": [],
   "source": [
    "data['Date'] = pd.to_datetime(data['Date'])"
   ]
  },
  {
   "cell_type": "code",
   "execution_count": 12,
   "id": "known-nutrition",
   "metadata": {},
   "outputs": [],
   "source": [
    "data = pd.get_dummies(data, columns=['WindGustDir'])"
   ]
  },
  {
   "cell_type": "code",
   "execution_count": 13,
   "id": "grave-footage",
   "metadata": {},
   "outputs": [],
   "source": [
    "data = pd.get_dummies(data, columns=['WindDir9am'])\n",
    "data = pd.get_dummies(data, columns=['WindDir3pm'])\n",
    "data = pd.get_dummies(data, columns=['RainToday'], drop_first=True)"
   ]
  },
  {
   "cell_type": "code",
   "execution_count": 14,
   "id": "structural-analyst",
   "metadata": {},
   "outputs": [
    {
     "name": "stdout",
     "output_type": "stream",
     "text": [
      "<class 'pandas.core.frame.DataFrame'>\n",
      "Int64Index: 56420 entries, 6049 to 142302\n",
      "Data columns (total 67 columns):\n",
      " #   Column           Non-Null Count  Dtype         \n",
      "---  ------           --------------  -----         \n",
      " 0   Date             56420 non-null  datetime64[ns]\n",
      " 1   Location         56420 non-null  object        \n",
      " 2   MinTemp          56420 non-null  float64       \n",
      " 3   MaxTemp          56420 non-null  float64       \n",
      " 4   Rainfall         56420 non-null  float64       \n",
      " 5   Evaporation      56420 non-null  float64       \n",
      " 6   Sunshine         56420 non-null  float64       \n",
      " 7   WindGustSpeed    56420 non-null  float64       \n",
      " 8   WindSpeed9am     56420 non-null  float64       \n",
      " 9   WindSpeed3pm     56420 non-null  float64       \n",
      " 10  Humidity9am      56420 non-null  float64       \n",
      " 11  Humidity3pm      56420 non-null  float64       \n",
      " 12  Pressure9am      56420 non-null  float64       \n",
      " 13  Pressure3pm      56420 non-null  float64       \n",
      " 14  Cloud9am         56420 non-null  float64       \n",
      " 15  Cloud3pm         56420 non-null  float64       \n",
      " 16  Temp9am          56420 non-null  float64       \n",
      " 17  Temp3pm          56420 non-null  float64       \n",
      " 18  WindGustDir_E    56420 non-null  uint8         \n",
      " 19  WindGustDir_ENE  56420 non-null  uint8         \n",
      " 20  WindGustDir_ESE  56420 non-null  uint8         \n",
      " 21  WindGustDir_N    56420 non-null  uint8         \n",
      " 22  WindGustDir_NE   56420 non-null  uint8         \n",
      " 23  WindGustDir_NNE  56420 non-null  uint8         \n",
      " 24  WindGustDir_NNW  56420 non-null  uint8         \n",
      " 25  WindGustDir_NW   56420 non-null  uint8         \n",
      " 26  WindGustDir_S    56420 non-null  uint8         \n",
      " 27  WindGustDir_SE   56420 non-null  uint8         \n",
      " 28  WindGustDir_SSE  56420 non-null  uint8         \n",
      " 29  WindGustDir_SSW  56420 non-null  uint8         \n",
      " 30  WindGustDir_SW   56420 non-null  uint8         \n",
      " 31  WindGustDir_W    56420 non-null  uint8         \n",
      " 32  WindGustDir_WNW  56420 non-null  uint8         \n",
      " 33  WindGustDir_WSW  56420 non-null  uint8         \n",
      " 34  WindDir9am_E     56420 non-null  uint8         \n",
      " 35  WindDir9am_ENE   56420 non-null  uint8         \n",
      " 36  WindDir9am_ESE   56420 non-null  uint8         \n",
      " 37  WindDir9am_N     56420 non-null  uint8         \n",
      " 38  WindDir9am_NE    56420 non-null  uint8         \n",
      " 39  WindDir9am_NNE   56420 non-null  uint8         \n",
      " 40  WindDir9am_NNW   56420 non-null  uint8         \n",
      " 41  WindDir9am_NW    56420 non-null  uint8         \n",
      " 42  WindDir9am_S     56420 non-null  uint8         \n",
      " 43  WindDir9am_SE    56420 non-null  uint8         \n",
      " 44  WindDir9am_SSE   56420 non-null  uint8         \n",
      " 45  WindDir9am_SSW   56420 non-null  uint8         \n",
      " 46  WindDir9am_SW    56420 non-null  uint8         \n",
      " 47  WindDir9am_W     56420 non-null  uint8         \n",
      " 48  WindDir9am_WNW   56420 non-null  uint8         \n",
      " 49  WindDir9am_WSW   56420 non-null  uint8         \n",
      " 50  WindDir3pm_E     56420 non-null  uint8         \n",
      " 51  WindDir3pm_ENE   56420 non-null  uint8         \n",
      " 52  WindDir3pm_ESE   56420 non-null  uint8         \n",
      " 53  WindDir3pm_N     56420 non-null  uint8         \n",
      " 54  WindDir3pm_NE    56420 non-null  uint8         \n",
      " 55  WindDir3pm_NNE   56420 non-null  uint8         \n",
      " 56  WindDir3pm_NNW   56420 non-null  uint8         \n",
      " 57  WindDir3pm_NW    56420 non-null  uint8         \n",
      " 58  WindDir3pm_S     56420 non-null  uint8         \n",
      " 59  WindDir3pm_SE    56420 non-null  uint8         \n",
      " 60  WindDir3pm_SSE   56420 non-null  uint8         \n",
      " 61  WindDir3pm_SSW   56420 non-null  uint8         \n",
      " 62  WindDir3pm_SW    56420 non-null  uint8         \n",
      " 63  WindDir3pm_W     56420 non-null  uint8         \n",
      " 64  WindDir3pm_WNW   56420 non-null  uint8         \n",
      " 65  WindDir3pm_WSW   56420 non-null  uint8         \n",
      " 66  RainToday_Yes    56420 non-null  uint8         \n",
      "dtypes: datetime64[ns](1), float64(16), object(1), uint8(49)\n",
      "memory usage: 10.8+ MB\n"
     ]
    }
   ],
   "source": [
    "data.info()"
   ]
  },
  {
   "cell_type": "code",
   "execution_count": 15,
   "id": "apart-catering",
   "metadata": {},
   "outputs": [],
   "source": [
    "data = pd.get_dummies(data, columns=['Location'])"
   ]
  },
  {
   "cell_type": "code",
   "execution_count": 16,
   "id": "difficult-auckland",
   "metadata": {},
   "outputs": [],
   "source": [
    "import datetime\n",
    "data['Date']=data['Date'].map(datetime.datetime.toordinal)"
   ]
  },
  {
   "cell_type": "code",
   "execution_count": 25,
   "id": "living-western",
   "metadata": {},
   "outputs": [
    {
     "name": "stdout",
     "output_type": "stream",
     "text": [
      "<class 'pandas.core.frame.DataFrame'>\n",
      "Int64Index: 56420 entries, 6049 to 142302\n",
      "Data columns (total 92 columns):\n",
      " #   Column                     Non-Null Count  Dtype  \n",
      "---  ------                     --------------  -----  \n",
      " 0   Date                       56420 non-null  int64  \n",
      " 1   MinTemp                    56420 non-null  float64\n",
      " 2   MaxTemp                    56420 non-null  float64\n",
      " 3   Rainfall                   56420 non-null  float64\n",
      " 4   Evaporation                56420 non-null  float64\n",
      " 5   Sunshine                   56420 non-null  float64\n",
      " 6   WindGustSpeed              56420 non-null  float64\n",
      " 7   WindSpeed9am               56420 non-null  float64\n",
      " 8   WindSpeed3pm               56420 non-null  float64\n",
      " 9   Humidity9am                56420 non-null  float64\n",
      " 10  Humidity3pm                56420 non-null  float64\n",
      " 11  Pressure9am                56420 non-null  float64\n",
      " 12  Pressure3pm                56420 non-null  float64\n",
      " 13  Cloud9am                   56420 non-null  float64\n",
      " 14  Cloud3pm                   56420 non-null  float64\n",
      " 15  Temp9am                    56420 non-null  float64\n",
      " 16  Temp3pm                    56420 non-null  float64\n",
      " 17  WindGustDir_E              56420 non-null  uint8  \n",
      " 18  WindGustDir_ENE            56420 non-null  uint8  \n",
      " 19  WindGustDir_ESE            56420 non-null  uint8  \n",
      " 20  WindGustDir_N              56420 non-null  uint8  \n",
      " 21  WindGustDir_NE             56420 non-null  uint8  \n",
      " 22  WindGustDir_NNE            56420 non-null  uint8  \n",
      " 23  WindGustDir_NNW            56420 non-null  uint8  \n",
      " 24  WindGustDir_NW             56420 non-null  uint8  \n",
      " 25  WindGustDir_S              56420 non-null  uint8  \n",
      " 26  WindGustDir_SE             56420 non-null  uint8  \n",
      " 27  WindGustDir_SSE            56420 non-null  uint8  \n",
      " 28  WindGustDir_SSW            56420 non-null  uint8  \n",
      " 29  WindGustDir_SW             56420 non-null  uint8  \n",
      " 30  WindGustDir_W              56420 non-null  uint8  \n",
      " 31  WindGustDir_WNW            56420 non-null  uint8  \n",
      " 32  WindGustDir_WSW            56420 non-null  uint8  \n",
      " 33  WindDir9am_E               56420 non-null  uint8  \n",
      " 34  WindDir9am_ENE             56420 non-null  uint8  \n",
      " 35  WindDir9am_ESE             56420 non-null  uint8  \n",
      " 36  WindDir9am_N               56420 non-null  uint8  \n",
      " 37  WindDir9am_NE              56420 non-null  uint8  \n",
      " 38  WindDir9am_NNE             56420 non-null  uint8  \n",
      " 39  WindDir9am_NNW             56420 non-null  uint8  \n",
      " 40  WindDir9am_NW              56420 non-null  uint8  \n",
      " 41  WindDir9am_S               56420 non-null  uint8  \n",
      " 42  WindDir9am_SE              56420 non-null  uint8  \n",
      " 43  WindDir9am_SSE             56420 non-null  uint8  \n",
      " 44  WindDir9am_SSW             56420 non-null  uint8  \n",
      " 45  WindDir9am_SW              56420 non-null  uint8  \n",
      " 46  WindDir9am_W               56420 non-null  uint8  \n",
      " 47  WindDir9am_WNW             56420 non-null  uint8  \n",
      " 48  WindDir9am_WSW             56420 non-null  uint8  \n",
      " 49  WindDir3pm_E               56420 non-null  uint8  \n",
      " 50  WindDir3pm_ENE             56420 non-null  uint8  \n",
      " 51  WindDir3pm_ESE             56420 non-null  uint8  \n",
      " 52  WindDir3pm_N               56420 non-null  uint8  \n",
      " 53  WindDir3pm_NE              56420 non-null  uint8  \n",
      " 54  WindDir3pm_NNE             56420 non-null  uint8  \n",
      " 55  WindDir3pm_NNW             56420 non-null  uint8  \n",
      " 56  WindDir3pm_NW              56420 non-null  uint8  \n",
      " 57  WindDir3pm_S               56420 non-null  uint8  \n",
      " 58  WindDir3pm_SE              56420 non-null  uint8  \n",
      " 59  WindDir3pm_SSE             56420 non-null  uint8  \n",
      " 60  WindDir3pm_SSW             56420 non-null  uint8  \n",
      " 61  WindDir3pm_SW              56420 non-null  uint8  \n",
      " 62  WindDir3pm_W               56420 non-null  uint8  \n",
      " 63  WindDir3pm_WNW             56420 non-null  uint8  \n",
      " 64  WindDir3pm_WSW             56420 non-null  uint8  \n",
      " 65  RainToday_Yes              56420 non-null  uint8  \n",
      " 66  Location_AliceSprings      56420 non-null  uint8  \n",
      " 67  Location_Brisbane          56420 non-null  uint8  \n",
      " 68  Location_Cairns            56420 non-null  uint8  \n",
      " 69  Location_Canberra          56420 non-null  uint8  \n",
      " 70  Location_Cobar             56420 non-null  uint8  \n",
      " 71  Location_CoffsHarbour      56420 non-null  uint8  \n",
      " 72  Location_Darwin            56420 non-null  uint8  \n",
      " 73  Location_Hobart            56420 non-null  uint8  \n",
      " 74  Location_Melbourne         56420 non-null  uint8  \n",
      " 75  Location_MelbourneAirport  56420 non-null  uint8  \n",
      " 76  Location_Mildura           56420 non-null  uint8  \n",
      " 77  Location_Moree             56420 non-null  uint8  \n",
      " 78  Location_MountGambier      56420 non-null  uint8  \n",
      " 79  Location_NorfolkIsland     56420 non-null  uint8  \n",
      " 80  Location_Nuriootpa         56420 non-null  uint8  \n",
      " 81  Location_Perth             56420 non-null  uint8  \n",
      " 82  Location_PerthAirport      56420 non-null  uint8  \n",
      " 83  Location_Portland          56420 non-null  uint8  \n",
      " 84  Location_Sale              56420 non-null  uint8  \n",
      " 85  Location_Sydney            56420 non-null  uint8  \n",
      " 86  Location_SydneyAirport     56420 non-null  uint8  \n",
      " 87  Location_Townsville        56420 non-null  uint8  \n",
      " 88  Location_WaggaWagga        56420 non-null  uint8  \n",
      " 89  Location_Watsonia          56420 non-null  uint8  \n",
      " 90  Location_Williamtown       56420 non-null  uint8  \n",
      " 91  Location_Woomera           56420 non-null  uint8  \n",
      "dtypes: float64(16), int64(1), uint8(75)\n",
      "memory usage: 11.8 MB\n"
     ]
    }
   ],
   "source": [
    "data.info()"
   ]
  },
  {
   "cell_type": "code",
   "execution_count": 17,
   "id": "forbidden-milton",
   "metadata": {},
   "outputs": [],
   "source": [
    "from sklearn.model_selection import train_test_split\n",
    "x_train, x_test, y_train, y_test = train_test_split(data, label, test_size=0.25, random_state=0)"
   ]
  },
  {
   "cell_type": "code",
   "execution_count": 18,
   "id": "liable-peter",
   "metadata": {},
   "outputs": [
    {
     "name": "stdout",
     "output_type": "stream",
     "text": [
      "1\n"
     ]
    },
    {
     "data": {
      "image/png": "[encoded data removed]",
      "text/plain": [
       "<Figure size 432x288 with 1 Axes>"
      ]
     },
     "metadata": {
      "needs_background": "light"
     },
     "output_type": "display_data"
    }
   ],
   "source": [
    "from sklearn.decomposition import PCA\n",
    "import numpy as np\n",
    "pca = PCA()\n",
    "pca.fit(x_train)\n",
    "cumsum = np.cumsum(pca.explained_variance_ratio_)\n",
    "d = np.argmax(cumsum >= 0.95) + 1\n",
    "print(d)\n",
    "plt.xlabel('# of dimensions')\n",
    "plt.ylabel('Explained variance')\n",
    "plt.plot(cumsum);\n",
    "plt.plot(d, 0.95, color='red', marker='o');"
   ]
  },
  {
   "cell_type": "markdown",
   "id": "structured-condition",
   "metadata": {},
   "source": [
    "we can see that we can use a 1 demention data"
   ]
  },
  {
   "cell_type": "code",
   "execution_count": 19,
   "id": "equal-copying",
   "metadata": {},
   "outputs": [],
   "source": [
    "pca = PCA(n_components=0.95)\n",
    "X_train_pca = pca.fit_transform(x_train)\n",
    "X_test_pca = pca.transform(x_test)"
   ]
  },
  {
   "cell_type": "code",
   "execution_count": 30,
   "id": "lovely-onion",
   "metadata": {},
   "outputs": [],
   "source": [
    "from sklearn.neighbors import KNeighborsClassifier\n",
    "import scikitplot.metrics as skplt\n",
    "from sklearn.metrics import confusion_matrix\n",
    "from sklearn import metrics\n",
    "from sklearn.metrics import roc_auc_score\n",
    "from sklearn.metrics import accuracy_score\n",
    "\n",
    "def KNN(X_train,y_train,X_test,y_test, algo, n,w):\n",
    "    clf = KNeighborsClassifier(n_neighbors=n, weights=w, algorithm= algo, n_jobs=-1)\n",
    "    clf.fit(X_train,y_train)\n",
    "    probs= clf.predict_proba(X_test)\n",
    "    #print(\"AUC score on test data\", roc_auc_score(y_test,probs,multi_class='ovr'))\n",
    "    prediction = clf.predict(X_test)\n",
    "    skplt.plot_confusion_matrix(y_test,prediction)\n",
    "    print('accuracy score :',accuracy_score(y_test, prediction))\n",
    "    print(\"macro f1 score for data :\",metrics.f1_score(y_test, prediction, average = 'macro'))\n",
    "    print(\"micro f1 scoore for data:\",metrics.f1_score(y_test, prediction, average = 'micro'))\n",
    "    print(\"hamming loss for data:\",metrics.hamming_loss(y_test,prediction))\n",
    "    print(\"Precision recall report for data:\\n\",metrics.classification_report(y_test, prediction))"
   ]
  },
  {
   "cell_type": "code",
   "execution_count": 21,
   "id": "every-moldova",
   "metadata": {},
   "outputs": [
    {
     "data": {
      "text/plain": [
       "{'algorithm': 'ball_tree', 'n_neighbors': 10, 'weights': 'distance'}"
      ]
     },
     "execution_count": 21,
     "metadata": {},
     "output_type": "execute_result"
    }
   ],
   "source": [
    "from sklearn.model_selection import GridSearchCV\n",
    "param_grid = [\n",
    " {'n_neighbors': [10, 30, 90], 'weights': ['distance', 'uniform'], 'algorithm': ['ball_tree','kd_tree','brute']},\n",
    " ]\n",
    "clf = KNeighborsClassifier(n_jobs=-1)\n",
    "grid_search = GridSearchCV(clf, param_grid, cv=2)\n",
    "grid_search.fit(x_train, y_train)\n",
    "grid_search.best_params_"
   ]
  },
  {
   "cell_type": "code",
   "execution_count": 22,
   "id": "diagnostic-appointment",
   "metadata": {},
   "outputs": [
    {
     "data": {
      "text/plain": [
       "(42315,)"
      ]
     },
     "execution_count": 22,
     "metadata": {},
     "output_type": "execute_result"
    }
   ],
   "source": [
    "y_train.shape"
   ]
  },
  {
   "cell_type": "code",
   "execution_count": 31,
   "id": "parliamentary-contributor",
   "metadata": {},
   "outputs": [
    {
     "name": "stdout",
     "output_type": "stream",
     "text": [
      "accuracy score : 0.8482098546614676\n",
      "macro f1 score for data : 0.7421570131427173\n",
      "micro f1 scoore for data: 0.8482098546614676\n",
      "hamming loss for data: 0.15179014533853244\n",
      "Precision recall report for data:\n",
      "               precision    recall  f1-score   support\n",
      "\n",
      "          No       0.87      0.95      0.91     11019\n",
      "         Yes       0.74      0.47      0.58      3086\n",
      "\n",
      "    accuracy                           0.85     14105\n",
      "   macro avg       0.80      0.71      0.74     14105\n",
      "weighted avg       0.84      0.85      0.84     14105\n",
      "\n"
     ]
    },
    {
     "data": {
      "image/png": "[encoded data removed]",
      "text/plain": [
       "<Figure size 432x288 with 2 Axes>"
      ]
     },
     "metadata": {
      "needs_background": "light"
     },
     "output_type": "display_data"
    }
   ],
   "source": [
    "KNN(x_train,y_train,x_test,y_test, 'ball_tree', 10, 'distance')"
   ]
  },
  {
   "cell_type": "code",
   "execution_count": null,
   "id": "flying-courtesy",
   "metadata": {},
   "outputs": [],
   "source": []
  },
  {
   "cell_type": "markdown",
   "id": "continuing-scheduling",
   "metadata": {},
   "source": [
    "# Summary:\n",
    "\n",
    "We manage to create a better classifaier! \n",
    "* this classifier used all data without removing the features manually.\n",
    "* we reduce the features to 1 dimention (instead of 92 with dummy). less features are better for classification.\n",
    "* the classifier predict not only for Sydney but for all AUS.\n",
    "* previus prediction accuracy was 0.82 now its 0.85\n"
   ]
  },
  {
   "cell_type": "code",
   "execution_count": null,
   "id": "considered-tuesday",
   "metadata": {},
   "outputs": [],
   "source": []
  }
 ],
 "metadata": {
  "kernelspec": {
   "display_name": "Python 3",
   "language": "python",
   "name": "python3"
  },
  "language_info": {
   "codemirror_mode": {
    "name": "ipython",
    "version": 3
   },
   "file_extension": ".py",
   "mimetype": "text/x-python",
   "name": "python",
   "nbconvert_exporter": "python",
   "pygments_lexer": "ipython3",
   "version": "3.9.2"
  }
 },
 "nbformat": 4,
 "nbformat_minor": 5
}
